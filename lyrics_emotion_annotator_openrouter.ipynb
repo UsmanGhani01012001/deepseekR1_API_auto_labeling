{
 "cells": [
  {
   "cell_type": "code",
   "execution_count": null,
   "id": "839fa968-b6b3-400e-a8ce-eeaeb6d0be94",
   "metadata": {},
   "outputs": [
    {
     "name": "stderr",
     "output_type": "stream",
     "text": [
      "C:\\Users\\LAPTOP INSIDE\\AppData\\Local\\Temp\\ipykernel_16840\\361196147.py:8: DtypeWarning: Columns (2,3,4,5,6,7,8,9,10,11,12,13,14,15,16,17,18,19,20,21,22,23,24,25,26,27,28,29,30,31,32,33,34,35,36,37,38,39,40,41,42,43,44,45,46,47,48,49,50,51,52,53,54,55,56,57,58,59,60,61,62,63,64,65,66,67,68,69,70,71,72,73,74,75,76,77,78,79,80,81,82,83,84,85,86,87,88,89,90,91,92,93,94,95,96,97,98,99,100,101,102,103,104,105,106,107,108,109,110,111,112,113,114,115,116,117,118,119,120,121,122,123,124,125,126,127,128,129,130,131,132,133,134,135,136,137,138,139,140,141,142,143,144,145,146,147,148,149,150,151,152,153,154,155,156,157,158,159,160,161,162,163,164,165,166,167,168,169,170,171,172,173,174,175,176,177,178,179,180,181,182,183,184,185,186,187,188,189,190,191,192,193,194,195,196,197,198,199,200,201,202,203,204,205,206,207,208,209,210,211,212,213,214,215,216,217,218,219,220,221,222,223,224,225,226,227,228,229,230,231,232,233,234,235,236,237,238,239,240,241,242,243,244,245,246,247,248,249,250,251,252,253,254,255,256,257,258,259,260,261,262,263,264,265,266,267,268,269,270,271,272,273,274,275,276,277,278,279,280,281,282) have mixed types. Specify dtype option on import or set low_memory=False.\n",
      "  df = pd.read_csv(\"spotify_sadness.csv\", encoding='ISO-8859-1') # Replace with your actual CSV file\n",
      "C:\\Users\\LAPTOP INSIDE\\AppData\\Local\\Temp\\ipykernel_16840\\361196147.py:58: FutureWarning: Setting an item of incompatible dtype is deprecated and will raise an error in a future version of pandas. Value '\\boxed{sad, nostalgia, hope, obsession}' has dtype incompatible with float64, please explicitly cast to a compatible dtype first.\n",
      "  df.at[idx, 'emotions'] = emotion_output\n"
     ]
    },
    {
     "data": {
      "text/markdown": [
       "**Lyric:** Friends told her she was better off at the bottom of a river Than in a bed with him He said \"Until you try both, you won't know what you like better Why don't we go for a swim?\" Well, friends told her this and friends told her that But friends don't choose what echoes in your head When she got bored with all the idle chit-and-chat Kept thinking 'bout what he said  I'll swim even when the water's cold That's the one thing that I know Even when the water's cold  She remembers it fondly, she doesn't remember it all But what she does, she sees clearly She lost his number, and he never called But all she really lost was an earring The other's in a box with others she has lost I wonder if she still hears me  I'll swim even when the water's cold That's the one thing that I know Even when the water's cold If you believe in love You know that sometimes it isn't Do you believe in love? Then save the bullshit questions Sometimes it is and sometimes it isn't Sometimes it's just how the light hits their eyes Do you believe in love?\n",
       "\n",
       "**Emotions:** \\boxed{sad, nostalgia, hope, obsession}"
      ],
      "text/plain": [
       "<IPython.core.display.Markdown object>"
      ]
     },
     "metadata": {},
     "output_type": "display_data"
    },
    {
     "data": {
      "text/markdown": [
       "**Lyric:** Well I heard it, playing soft From a drunken bar's jukebox And for a moment I was lost In remembering, what I never forgot And I never felt guilt about The trouble that we got into I just couldn't let that honey hide inside of you And just because now it's different Doesn't change what it meant  And when I hear that song You know I'm only gonna Think about one girl I think about you When I sing this song You know I'm only gonna Sing it for one girl Ooh ooh ooh  Well I heard it, playing loud I never knew what it was about Till I fell silent in a crowd I just turned around and walked straight out 'Cause I guess I felt guilty About the trouble that I caused you Putting myself first, just like I always do But that doesn't change how I feel 'Cause when I hear it, it feels real And when I hear that song You know I'm only gonna Think about one boy I think about you And when I sing this song You know I'm only gonna Sing it for one boy Ooh ooh ooh  Well, I can't forget Things you said or your kisses And I keep your secrets Where I keep your promises But you need my confessions About as much as you need my lies And I guess it took that song to make me realize  [Instrumental Break]\n",
       "\n",
       "**Emotions:** \\boxed{nostalgia, sad, tender}"
      ],
      "text/plain": [
       "<IPython.core.display.Markdown object>"
      ]
     },
     "metadata": {},
     "output_type": "display_data"
    },
    {
     "data": {
      "text/markdown": [
       "**Lyric:** [Verse 1] We've known working in obscurity and we'll know it again We know that they're almost done with what they need from us We know that the only way they'll be back is sometime if and when They know we have something they can sell and turn to dust And turn to dust And turn to dust  [Chorus] If you would've told me how things are I would've thought that we had won If you would've told me how things are I wonder how it happened Looking out that night from Dolores Park You'd think it all turned out to be Like we plotted and schemed Why does it feel empty anyway?  [Verse 2] We wrote every single note and chord of every single song Lived through every stupid argument about bein' legit About bein' legit About bein' legit [Chorus] If you would've told me how things are I would've thought that we had won If you would've told me how things are I wonder how it happened Looking out that night from Dolores Park You'd think it all turned out to be Like we plotted and schemed Why does it feel empty anyway?  [Bridge] Infidels, liars and believers Know-it-alls, ingénues and dreamers CEOs, goons, overachievers Future shock something like a fever Something like a fever Something like a fever Something like a fever Something like a fever  [Chorus] If you would've told me how things are I would've thought that we had won If you would've told me how things are I wonder how it happened Looking out that night from Dolores Park You'd think it all turned out to be Like we plotted and schemed Why does it feel empty anyway? [Outro] If you would've told me how things are If you would've told me how things are If you would've told me how things are\n",
       "\n",
       "**Emotions:** \\boxed{sad, nostalgia, anger, hope}"
      ],
      "text/plain": [
       "<IPython.core.display.Markdown object>"
      ]
     },
     "metadata": {},
     "output_type": "display_data"
    },
    {
     "data": {
      "text/markdown": [
       "**Lyric:** Sometimes you don't say nothing 'cause you got nothing to say And sometimes you tell it all 'cause no one's listening anyway And you don't know for certain but you think you might be a bore Don't wanna be nobody's burden so you just hit the dance floor  'Cause the opportunities presented stop you dead, stuttering on the sentences Small talk's asking questions that no one cares about what the answer is  Watching others' conversation from your place against the wall You'd have something worth saying if you could only find a place in the bathroom stall But remember when you come out don't you dare look inside the bathroom mirror What is it what was it and does it even matter anymore?  Hey, am I making any sense at all? Does anyone here speak English? 'Cause everybody's acting like I'm crazy Hey, am I making any sense at all? Is this thing on? Is this thing on?  And I must confess or maybe you've already guessed The you is me, I made up the rest And I must confess or maybe you've already guessed The you is me, I made up the rest (Shh) The voices in my head go \"Doo-doo, doo-doo, doo-doo, do, do, do, do\" (Shh) The voices in my head go \"Doo-doo, doo-doo, doo-doo, do, do, do, do\"  (Repeats) And don't you know sometimes I could just kill for a good conversation Hey, am I making any sense at all? Does anybody here speak English? 'Cause everybody's acting like I'm crazy\n",
       "\n",
       "**Emotions:** \\boxed{sad, fear, anger, obsession}"
      ],
      "text/plain": [
       "<IPython.core.display.Markdown object>"
      ]
     },
     "metadata": {},
     "output_type": "display_data"
    },
    {
     "data": {
      "text/markdown": [
       "**Lyric:** Only takes a little bit of gleam or glimmer Only just a little bit of shake-or-shiver Nothing never matters 'til it's shattered Smothered and covered, splattered all over Manhattan  Sha, sha, sha, sha, sha-doobie Sometimes it's really just like the movies  Was a glimpse, a little bit of nothing make a difference And nothing's been the same since the chain of events It's the place where dreams come true Dreams can still be nightmares too  And ah sha, sha, sha, sha, whoa, whoa So much it's close enough for rock 'n roll  Shoulda known the world was cold, next time you'll pack a sweater Poets from the days of old have never said it better Sometimes it really glitters and sometimes it's even gold Baby when it isn't then it must be rock 'n roll And ah sha, sha, sha, sha, sha-doobie Sometimes it's really just like the movies  Sha, sha, sha, sha, sha-doobie Sometimes you just stay home and watch movies\n",
       "\n",
       "**Emotions:** \\boxed{joy, nostalgia, hope, sad}"
      ],
      "text/plain": [
       "<IPython.core.display.Markdown object>"
      ]
     },
     "metadata": {},
     "output_type": "display_data"
    },
    {
     "name": "stdout",
     "output_type": "stream",
     "text": [
      "✅ Auto-saved at row 5\n"
     ]
    },
    {
     "data": {
      "text/markdown": [
       "**Lyric:** [Intro] Whoo  [Verse 1] If the waves could take you under Would you never go into the sea? If it stops and makes you wonder Do you freeze or can you let it be? Do the lightning, rain and thunder Leave you waiting for the next regime? Do you calculate the numbers And believe in probability?  [Verse 2] Are you feeling sentimental? Are you feeling insecure? Are you always playing games of \"is it right?\" or \"am I sure?\" Is it feeling kinda hasty? Is it feeling premature? Are you looking for the exit? Are you taking a detour? Are you taking a detour? Are you taking a detour? Are you taking a detour? [Pre-Chorus] Ooh What you do, what you do, what you do, what you doin' to me What you do to me, what you do to me, what you do to me  [Chorus] Hey, what you do to me Energy's getting through to me And I got my eyes forward and that's how they ought to be Baby, baby, I'm here where I need to be (Oh yeah, oh yeah) Feeling fear, but no need to be And I've been caught dead in my tracks, but that's no way to be It's no way to be Ooh, yeah Ooh  [Bridge] Hey, listen to me When I want advice, then give it to me But just keep quiet and don't even try it 'Cause you don't have nothing to say I said hey, talk to me Are you staying here or can you walk with me? And don't deny it if you haven't tried it 'Cause the feeling ain't going away (Come on) I said hey, listen to me When I want advice, then give it to me But just keep quiet and don't even try it 'Cause you don't have nothing to say I said hey, talk to me Are you staying here or can you walk with me? And don't deny it if you haven't tried it 'Cause the feeling ain't going away (Come on) [Verse 2] Are you feeling sentimental? Are you feeling insecure? Are you always playing games of \"is it right?\" or \"am I sure?\" Is it feeling kinda hasty? Is it feeling premature? Are you looking for the exit? Are you taking a detour? Are you taking a detour? Are you taking a detour? Are you taking a detour? Are you taking a?  [Pre-Chorus] Yeah Hey Yeah, uh-huh Yeah, yeah, yeah, yeah, yeah, yeah Yeah, uh-huh, yeah, uh-huh  [Chorus] Hey, what you do to me Energy's getting through to me And I got my eyes forward and that's how they ought to be Baby, baby, I'm here where I need to be (No need to be) Feeling fear, but no need to be And I've been caught dead in my tracks, but that's no way to be It's no way to be  [Outro] Yeah, yeah, oh Uh-huh, what you do to me Yeah\n",
       "\n",
       "**Emotions:** \\boxed{fear, hope, tender, obsession}"
      ],
      "text/plain": [
       "<IPython.core.display.Markdown object>"
      ]
     },
     "metadata": {},
     "output_type": "display_data"
    },
    {
     "data": {
      "text/markdown": [
       "**Lyric:** [Intro] It's ironic how I can see now The same niggas said I was senile We livin' in an upside down reality Where the smart people get looked down on And the world get praised to go stupid Moments of momentum For those who create my story get snapped on  [Verse] Gettin' laced in them Jordan Downs, it ties you up Crip life, in the ad is how I blew up You ain't grew up how I grew up If I'm it in the hood, then you ain't threw up what I threw up Stomach pains from where it don't rain frequent The hood smell decent And they so high off the lines, sent to the precinct Concrete Crippin', you'll find out what the C meant Tell 'em don't ask faulty questions about the side walker Kill a man, the price is high, but look at Bob Barker I was on the roof, talkin' to my big dog Crazy, I'm playin' Cool Joe, I'm walkin' through the knicks, aw Hell, what was I thinkin'? Couldn't resist the other side, I had to get a peak in They was red linin' crazy, Goodyear ain't the bigger blimp But eight but I'm smart; Caesar, I be the bigger chimp Imperium central, fuck it, I had to get a glimpse I coulda got my brain peeled for bein' limitless Now I'm at a hundred percent to put an end to this Two piece of the Lucy drug Hold on to the ratchet, it ain't a groupie hug Coulda got smoked, I do be thinkin' about it See my mind in the gutter, I do be thinkin' up out it Third walk's up to Third, my ass stroll through the hood Third eye walk up to Third, my astro through the hood Dog feelin' kinda spacey, on Jetsons was lonely Missin' my boy Elroy, Bart poppin' my homie It was springfield action Flowers on every corner, man, the C's still trapped in We need real captains To control this bull we gon' need Phil Jackson The triangles I angle, cry angels if you bother You wanna survive? Become a Dodger cap Tia & Tamera love, niggas better roger that Bastards got popped, but they ain't never got they father back Hope you got your father back Or maybe that's why brodie bother Pops tried to preach to enemies, now he the Holy Father First murder case in five, became the oldest toddler We all seen the outcome of Malcom X But how come the outcome don't outcome Malcom respect? Child support cut X mouth and about to check 'Cause she blew it, verified, cried, now she about to flex Lex Luger, Ma sold the stamps And the kid's clothes was damp It was broke dryers prior to coldest cramps This period in time, desired to roll the tramps On lean in the equation Bounce with the dirty sprite, I seen how they get laid in Shark life of the brave men Grew up in the street, now our life in the pavement And yet they never paid me On the first it was fire, fuck it, feel like we cavemen New whips and a chain ? aw, they got us slaved in! See I had a dream to be awakened I was in denial, cut short, this where the lake end Salakem Salam, salami was all I had Phone calls for the pen so Mommy could call her dad See my life was a mess, I'm still spillin' the steel Never got tired, I'm still willin' to kill Independence Day: them ships got us in Terraform Somehow we're scared of war Life on a beach but we wishin' for a better shore See what I'm sayin' B? A new wave\n",
       "\n",
       "**Emotions:** \\boxed{anger, sad, nostalgia, hope, power}"
      ],
      "text/plain": [
       "<IPython.core.display.Markdown object>"
      ]
     },
     "metadata": {},
     "output_type": "display_data"
    },
    {
     "data": {
      "text/markdown": [
       "**Lyric:** [Verse One] In the dark you were swept away And the world wouldn't let you stay All the words that I want to say, I can?t find  [Verse Two] I am lost in remembering Did you soar on an angel's wing? Will your face keep on lingering In my mind?  [Bridge] Oooooh Hear me now Oooooh ooooh Oooooh Hear me now Oooooh ooooh  [Chorus] A part of me Finds a hope in holding on A part of me Won't give up what isn?t gone A part of me Wants to share the hurt and heartache That I felt that day When you took away A part of me [Spoken: ZOE & EVAN] Alana put a copy of your speech online On the Facebook page for The Connor Project? People started sharing it, I guess And now it's, I mean, It's everywhere People from all over the country Yesterday Connor had 12 friends on here How many does he have know? Zoe: 1,239 What happened? You did  [Verse Three] I feel the weight of the world sink in (Connor and I used to ride the same bus) And the chills dance across my skin (We were best friends in 4th grade) (They were inseparable) When I think how you must have been (How you must have been) So alone  [Bridge] (Our son went to school with Connor) Oooooh (He was my friend) Hear me now (I never met you, Connor, but coming on here, reading everyone's posts, it's so easy to feel alone) (But right now, we're not alone. None of us) (Thank you, Evan Hansen, for giving us a space to remember Connor) Oooooh (Share) Oooooh (Sending prayers from Michigan) Oooooh (Vermont) Oooooh (Tampa) Oooooh (Sacremento) Oooooh (Repost) Oooooh (Thank you, Evan) Oooooh (Share) Oooooh (We won't forget you, Connor) Oooooh (Thanks to Evan Hansen) Oooooh (We'll remember Connor) Oooooh (We?ll always remember) [Chorus] A part of me Needs a way to say goodbye A part of me Now remembers how to cry A part of me Wants to share the hurt and heartache So the world can see That you?ll always be A part of me  [Verse Four] You left this life And left me numb All were blind, and deaf, and dumb We didn't know how bad it had become Or how to save you Now every prayer I?ve learned is prayed And every moment shared replayed I won't allow your memory to fade Can I save you?  [Verse Five] The sky collapsed without a sound As broken pieces hit the ground The rain fell down around me and I drowned But I will save you Our secret sorrows overflowed I see them in your afterglow I promise I will never let you go I will save you [Bridge] You are not alone You are not alone You are not alone You are not alone You are not alone You are not alone You are not alone You are not alone You are not alone  [Chorus] A part of me Can't believe it's even real A part of me Doesn?t know how much to feel A part of me Finds a rush within the pain A part of me Needs the feeling to remain A part of me Wants to share the hurt and heartache So the world can see That you'll always be  [Spoken: EVAN & ZOE] I think there's something you should know You make me feel closer to him  [CONNOR] A part of me\n",
       "\n",
       "**Emotions:** \\boxed{nostalgia, sad, hope, tender}"
      ],
      "text/plain": [
       "<IPython.core.display.Markdown object>"
      ]
     },
     "metadata": {},
     "output_type": "display_data"
    },
    {
     "data": {
      "text/markdown": [
       "**Lyric:** [Intro] They felt like they were laying tracks, for the generation to come. I think my mother knew that freedom wouldn't come in her lifetime, just like I know it won't come in mine. It's a matter of, either we stay like this or somebody sacrifice, somebody laying tracks, so we can stay in a 360 degree. Deadly circle, somebody used to break out and risk, you know losing everything and being poor and getting deep down. Cause someone has to do something, had I had a father, had I had some of these opportunities. I would be able to handle my mother more  [Verse 1: Punch] I was taught never trust a nigga, far as you can see him Teach a nigga how to fish, as apposed to try'na feed him Look a man in the eyes, that's the best way to read him Cause faces they change, but point of views remain I got a strange feeling, that I'm a lil bit different Beyond the customs and tradition of a project living My Korean war vet, grandfather's affliction Was stress and I inherited his heart condition And Van Arthur's addiction, was heroin needles Petty hustling, d'evils, that street men lust So I'm mixed with that lethal combination but trust I've only scratched the surface, what's underneath this verse is The feeling of a young boy lost, without a purpose Still waters run deep in the street we were submerged in Police lurking, try'na catch a nigga serving He ain't going back to jail, so he bust a verse [Hook: Kendrick Lamar] This is for my everyday young nigga It don't really matter where you from niggas Before you leave the house, kiss your moms nigga Cause you don't know when that day'll come nigga Cause only Lord knows that I know how you feel What we gotta do just to live Is try not to get our cap peeled, try not to get your cap peeled  [Verse 2: Punch] It's hard to get to know me, unless you hear between bars Tortured soul self contained on my childhood scars I was involved from a far, affected by the street laws Concrete walls, not even earthquakes could shake them brick walls Nickerson garden projects this is me y'all Where Dope dealers have it all and then freefall Caine numbs the pain up and down the ghetto seesaw The voice of the youth, they hear me and they see y'all They don't see a diamond in the rough, they see flaws They should see how we was raised and they would be in awe Against all it gets hard not to kill niggas It's like a full-time job not to grab the semi-auti And go kamikaze on somebody who plotting Probably on my body laying lifeless, ungodly sacrifices To the streets, this is the trinity Money malice and murder the hood's deity [Hook]  [Verse 3] They say the average black man only lives to 25 Well I made it past that and a nigga still alive Which means I'm in the red, I'm indebted to death That's the wages that sin pay, I'm still tracing my steps Leaving my footprints in the sand, the concrete rose That grew on infertile land and blossomed to a grown man My only fear is pops holding moms hand Dripping tears on my casket, I refuse to let it happen By any means avoiding the city traffic Shooters got the green light, they blocking your right of passage A young kid turned savage, city madness A picture painted on the street's canvas, excuse my brashness I'm trying to live to see past this Staring at the world and my rear view past tense In no particular fashion, I'm on borrowed time I'mma grind with a passion  [Hook]  [Outro] Generation to generation to come They won't come in mind Sacrifices, sacrifices, sacrifices Deadly circle, deadly circle\n",
       "\n",
       "**Emotions:** \\boxed{sad, anger, fear, nostalgia, violence}"
      ],
      "text/plain": [
       "<IPython.core.display.Markdown object>"
      ]
     },
     "metadata": {},
     "output_type": "display_data"
    },
    {
     "data": {
      "text/markdown": [
       "**Lyric:** [Intro]  Simon Zealotes  [CROWD] Christ, you know I love you; did you see I waved? I believe in you and God, so tell me that I'm saved! Christ, you know I love you; did you see I waved? I believe in you and God, so tell me that I'm saved Jesus, I am with you; touch me, touch me, Jesus! Jesus, I am on your side; kiss me, kiss, me Jesus!  [SIMON ZEALOTES] Christ, what more do you need to convince you That you've made it and you're easily as strong As the filth from Rome who rape our country And who've terrorized our people for so long?  [CROWD] Christ you know I love you; did you see I waved? I believe in you and God, so tell me that I'm saved Christ you know I love you; did you see I waved? I believe in you and God, so tell me that I'm saved Jesus, I am with you; touch me, touch me, Jesus! Jesus, I am on your side; kiss me, kiss me, Jesus! [SIMON ZEALOTES] There must be over fifty thousand Screaming love and more for you And every one of fifty thousand Would do whatever you ask him to Keep them yelling their devotion But add a touch of hate at Rome You will rise to a greater power We will win ourselves a home! You'll get the power and the glory For ever and ever and ever You'll get the power and the glory For ever and ever and ever You'll get the power and the glory For ever and ever and ever For ever and ever and ever  Poor Jerusalem  [JESUS] Neither you, Simon, nor the fifty thousand Nor the Romans, nor the Jews Nor Judas, nor the twelve, nor the Priests, nor the scribes Nor doomed Jerusalem itself Understand what power is Understand what glory is Understand at all Understand at all If you knew all that I knew, my poor Jerusalem You'd see the truth, but you close your eyes But you close your eyes While you live, your troubles are many, poor Jerusalem To conquer death you only have to die You only have to die\n",
       "\n",
       "**Emotions:** \\boxed{anger, power, obsession, sad}"
      ],
      "text/plain": [
       "<IPython.core.display.Markdown object>"
      ]
     },
     "metadata": {},
     "output_type": "display_data"
    },
    {
     "name": "stdout",
     "output_type": "stream",
     "text": [
      "✅ Auto-saved at row 10\n"
     ]
    },
    {
     "data": {
      "text/markdown": [
       "**Lyric:** Do you hear the people sing    Lost in the valley of the night?    It is the music of a people    Who are climbing to the light.        For the wretched of the earth    There is a flame that never dies.    Even the darkest night will end    And the sun will rise.        They will live again in freedom    In the garden of the Lord.    They will walk behind the plough-share,    They will put away the sword.    The chain will be broken    And all men will have their reward.        Will you join in our crusade?    Who will be strong and stand with me?    Somewhere beyond the barricade    Is there a world you long to see?    Do you hear the people sing?    Say, do you hear the distant drums?    It is the future that they bring    When tomorrow comes!        Will you join in our crusade?    Who will be strong and stand with me?    Somewhere beyond the barricade    Is there a world you long to see?    Do you hear the people sing?    Say, do you hear the distant drums?    It is the future that they bring    When tomorrow comes...    Tomorrow comes!    \n",
       "\n",
       "**Emotions:** \\boxed{**hope, power, joy, anger**}"
      ],
      "text/plain": [
       "<IPython.core.display.Markdown object>"
      ]
     },
     "metadata": {},
     "output_type": "display_data"
    },
    {
     "data": {
      "text/markdown": [
       "**Lyric:** Refrain:  Leader: O the long John Response: O the long John Leader: He's a-long gone Response: He's a-long gone Leader: Like a turkey through the corn Response: Like a turkey through the corn Leader: He's a-long gone Response: He's a-long gone  Verse 1:  Well my John said In the ten chap ten \"If a man die He will live again\" Well they crucified Jesus And they nailed him to the cross Sister Mary cried \"My child is lost!\" Refrain:  O long John He's long gone He's long gone In the corn, John O big eyed John O John, John It's a-long John  Verse 2:  Says-uh \"Come on gal And-uh shut that do,' \" Says, \"The dogs is comin' And I've got to go.\"  Refrain:  It's a-long John He's long gone It's-a long John He's-a long gone  Verse 3: \"Well a-two, three minutes Let me catch my win'; In-a-two, three minutes I'm gone again.\"  Refrain:  It's-a long John He's-a long gone He's a long gone He's a long gone  Verse 4:  Well my John said Just before he rain \"Well I'm goin' home See Maryland.\" It's-a long John It's-a long John With his long clothes on Like a turkey through the corn Well, my John said On the fourth day Well, to \"Tell my rider That I'm on my way.\" Refrain:  It's-a long John He's long gone He's-a long gone It's a long gone  Verse 5:  \"Gonna call this summer Ain't gon' call no mo' If I call next summer Be in Baltimore.\"  Refrain:  He's-a long John He's long gone He's long gone He's long gone He's long gone He's long gone (fade out)\n",
       "\n",
       "**Emotions:** \\boxed{sad, hope, nostalgia, fear}"
      ],
      "text/plain": [
       "<IPython.core.display.Markdown object>"
      ]
     },
     "metadata": {},
     "output_type": "display_data"
    },
    {
     "data": {
      "text/markdown": [
       "**Lyric:** [Verse 1] Seven o'clock in the evening Watchin somethin' stupid on TV I'm zoned out on the sofa When my wife comes in the room and sees me She says, \"Is this Behind the Music with Lynyrd Skynyrd?\" And I say, \"I don't know Say, \"It's gettin' late, what you wanna do for dinner?\" She says, \"I kinda had a big lunch So I'm not super hungry.\" I said, \"Well, you know, baby, I'm not starvin' either But I could eat.\" She said, \"So what do you have in mind?\" I said, \"I don't know. What about you?\" She said, \"I don't care ... if you're hungry, let's eat.\" I said, \"That's what we're gonna do! But first you gotta tell me What it is you're hungry for!\" And she says, \"Let me think... What's left in our refrigerator?\" I said, \"Well, there's tuna, I know.\" She said, \"That went bad a week ago!\" I said, \"Is the chili okay?\" She said, \"You finished that yesterday!\" I hopped up and said \"I don't know; do you want to get something delivered?\" She's like, \"Why would I want to eat liver? I don't even like liver!\" I'm like, \"No, I said 'delivered.'\" She's like, \"I heard you say 'liver'!\" I'm like, \"I should know what I said...\" She's like, \"Whatever! I just don't want any liver!\" Well, I was gonna say something But my cell phone started to ring Now who could be callin' me? Well I checked my caller ID It was just cousin Larry Callin' for the third time today... My wife said, \"Let it go to voicemail.\" I said, \"Okay.\" \"Where were we? Oh, dinner, right! So what d'ya want to do?\" She said, \"Why don't you whip up somethin' in the kitchen?\" \"Yeah,\" I said, \"why don't you?\" And then she said \"Baby, can't we just go out to dinner, please?\" I say, \"No\" She says, \"Yes\" I say, \"No\" She says, \"Yes\" I say, \"No\" She says, \"Yes... Oh, here's your keys\" I step a little bit closer Say, \"Okay, where ya want to go?\" She says, \"How about The Ivy?\" I said, \"Yeah, well, I don't know... I don't feel like gettin all dressed up And eatin' expensive food\" She's says, \"Olive Garden?\" I say, \"Nah, I'm not in the mood... And Burrito King would make me gassy There's no doubt\" She says, \"Just forget about it\" I said, \"No, I swear I'm gonna take you out!\" Then I get an idea I say, \"I know what we'll do!\" She says, \"What?\" I say, \"Guess!\" She says \"What?\" I say, \"We're goin' to the drive-thru!\" So we head out the front door Open the garage door Then I open the car doors And we get in those car doors Put my key in the ignition And then I turn it sideways Then we fasten our seat belts As we pull out the driveway Then we drive to the drive-thru Heading off to the drive-thru We're approaching the drive-thru Getting close to the drive-thru! Almost there at the drive-thru Now we're here at the drive thru Here in line at the drive-thru Did I mention the drive-thru? [Verse 2] Well, here we are In the drive-thru line, me and her Cars in front of us, cars in back of us All just waiting to order There's some idiot in a Volvo With his brights on behind me I lean out the window and scream \"Hey! What you trying to do, blind me?\" My wife says \"Maybe we should park... We could just go eat inside.\" I said, \"I'm wearin' bunny slippers So I ain't leavin' this ride...\" Now a woman on a speaker box Is sayin', \"Can I take your order, please?\" I said, \"Yes indeed, you certainly can We'd like two hamburgers with onions and cheese.\" Then my wife says \"Baby, hold on?I've changed my mind! I think I'm gonna have a chicken sandwich instead this time\" I said, \"You always get a cheeseburger!\" She says, \"That's not what I'm hungry for.\" I put my head in my hands and scream \"I don't know who you are anymore!\" The voice on the speaker says \"I don't have all day!\" I said, \"Then take our order And we'll be on our way! I wanna get a chicken sandwich And I want a cheeseburger, too\" She's like, \"You want onions on that?\" I'm like, \"Yeah, I already said that I do... Plus we need curly fries And don't you dare forget it! And two medium root beers No, just one?we'll split it.\" Then I said \"I'm guessin' that You're probably not too bright... So read me back my order Let's make sure you got it right.\" She says \"One?you want a chicken sandwich Two?you want a cheeseburger Three?curly fries, and a large root beer\" \"Stop! Don't go no further!\" \"I never ordered a large root beer I said medium, not large!\" Then she says \"We're havin' a special I supersized you at no charge.\" \"Oh.\" And that's all I could say, was \"Oh.\" And she says \"Now there is somethin' else That I really think you should know You can have unlimited refills For just a quarter more...\" I say \"Great, except we're in the drive-thru... So what would I want that for?\" Then she says \"Wait a minute Your voice sounds so familiar ... hey, is this Paul? And my wife is all like \"No, that ain't Paul Now tell me, who's this Paul?\" She says \"Oh, he's just some guy Who goes to school with me I sat behind him last year And I copied off of him in Geometry\" I said, \"I know a guy named Paul He used to be my plumber He was prematurely bald And he moved to Pittsburgh last summer He also had bladder problems And a really bad infection on his toe.\" And she says, \"Mister, please, you can stop right there That's way more than I needed to know!\" And then we both were quiet And things got real intense Then she says \"Next window, please That'll be five dollars and eighty two cents!\" So we inched ahead in line Movin' painfully slow I got a little bored So I turned on the radio... [Black Dog by Led Zeppelin] Click, turned it off Because my wife was getting a headache So we both just sat there quietly for her sake Then I looked at her And she looked back at me And I said \"Um I think you have somethin' in your teeth.\" She turned away from me And then turned back and said \"Did I get it?\" I said \"Yeah. Well, I mean, most of it... But hey, ya know, don't sweat it.\" Then she said \"How about now?\" I said \"Yeah, almost There's still a little bit there, but don't worry It's probably just a piece of toast.\" Now we're at the pay window Or whatever you call it Put my hand in my pocket I can't believe there's no wallet! [Verse 3] And the lady at the window's like \"Well, well, well, that'll be five eighty-two\" I turn around to my wife and say \"How much have you got on you?\" She just rolls her eyes and says \"I'll pay for this, I guess\" So she reaches into her purse And busts out the American Express I hand it to the lady And she says \"Oh, dear It's gotta be cash only We don't take credit cards here\" I took back the card and said \"Gee, really? Well, that sucks\" And that's when I found out My wife was only carryin' three bucks I said, \"I thought you were gonna hit the ATM today\" She says, \"I never got around to it, so where's your wallet anyway?\" And I said, \"Never mind Just help me to find some change...\" Now the lady at the window Is lookin' at me kind of strange... And she says, \"Mister, please We gotta move this line along\" I said, \"Now, hold your stinkin' horses, lady! We won't be long\" So I looked around inside the glove-box And checked the mat beneath my feet I found a nickel in an ashtray And a couple pennies and a dime in the space between the seats Before long I had a little pile Of coins of every sort The lady counts it up and says \"You're still about a dollar short\" And now my woman's got this weird look Frozen on her face She screams, \"You know I wasn't even really hungry in the first place!\" And so I turned around To the cashier again I shrugged and said, \"Okay Forget the chicken sandwich then\" So I pick up my change Pick up my receipt And I drive to the pickup window Man, I just can't wait to eat And now we see this acne-ridden Kid about sixteen Wearin' a dorky nametag that says \"Hello, my name is Eugene\" And he hands me a paper bag I look him in the eyes And I say to him, \"Hey, Eugene Could I get some ketchup for my fries?\" Well, he looks at me And I look at him And he looks at me And I look at him And he looks at me And I look at him And he says, \"I'm sorry! What did you want again?\" I say \"Ketchup!\" And he says, \"Oh, yeah, that's right... I just spaced out there for a second I'm really kind of burnt tonight.\" And then he hands me the ketchup And now we're finally drivin' away And the food is drivin' me mad With its intoxicating bouquet I'm starvin' to death By the time we pull up at the traffic light I say \"Baby, gimme that burger I just gotta have a bite!\" So she reaches in the bag And pulls out the burger And she hands me the burger And I pick up the burger And then I unwrap the paper I bite into those buns And I just can't believe it They forgot the onions!\n",
       "\n",
       "**Emotions:** \\boxed{joy, anger, calm}"
      ],
      "text/plain": [
       "<IPython.core.display.Markdown object>"
      ]
     },
     "metadata": {},
     "output_type": "display_data"
    },
    {
     "data": {
      "text/markdown": [
       "**Lyric:** [Verse 1] Nothin' ever (ever) happens in this town Feelin' low down (down), not a lot to do around here I thought that I would go right out of my mind Until a friend told me the news He said, \"Hey, you know that vacant lot Right beside the gas station? Well, somebody bought it And on that spot they're gonna build a shop Where we can go buy bolts and screws\" Since then I've been walking on air (air) I can barely brush my teeth or comb my hair Cause I'm so excited and I really don't care I've been waiting since last June For this day to finally arrive I'm so happy (happy) now just to be alive Cause any minute now I'm gonna be inside Well, I hope they open soon  [Chorus] I can't wait, (no I) I can't wait (oh when) When are they gonna open up that door? I'm goin' (yes I'm) goin', I'm a-goin' to the Goin' to the (hard) ware I'm goin', really goin' to the Goin' (hard) I'm goin' to the (hard) oh yes, I'm goin' to the Hardware store [Verse 2] In my sleeping bag I camped out overnight Right in front of the store, then as soon as it was light out I pressed my nose right up against the glass You know, I had to be first in line Gonna get me a flashlight and a broom Want a pair of pliers for every single room of my house See those hacksaws? Very, very soon One of them will be all mine Guys with nametags walking down the aisles Rows of garden hoses that go on for miles and miles Brand new socket wrenches in a plethora of styles All arranged alphabetically And they're doing a promotional stunt There's a great big purple sign out front That says every 27th customer Will get a ball peen hammer free  [Chorus] I can't wait, (no I) I can't wait (oh when) When are they gonna open up that door? I'm goin' (yes I'm) goin', I'm a-goin' to the Goin' to the (hard) ware I'm goin', really goin' to the Goin' (hard) I'm goin' to the (hard) oh yes, I'm goin' to the Hardware store I'm goin' (yes I'm) goin', I'm a-goin' to the Goin' to the (hard) ware I'm goin', really goin' to the Goin' (hard) I'm goin' to the (hard) oh yes, I'm goin' to the Hardware store  [Bridge] Would you look at all that stuff They've got Allen wrenches, gerbil feeders, toilet seats, electric heaters Trash compactors, juice extractors, shower rods and water meters Walkie-talkies, copper wires, safety goggles, radial tires BB pellets, rubber mallets, fans and dehumidifiers Picture hangers, paper cutters, waffle irons, window shutters Paint removers, window louvers, masking tape and plastic gutters Kitchen faucets, folding tables, weather stripping, jumper cables Hooks and tackle, grout and spackle, power foggers, spoons and ladles Pesticides for fumigation, high-performance lubrication Metal roofing, waterproofing, multi-purpose insulation Air compressors, brass connectors, wrecking chisels, smoke detectors Tire gauges, hamster cages, thermostats and bug deflectors Trailer hitch demagnetizers, automatic circumcisers Tennis rackets, angle brackets, Duracells and Energizers Soffit panels, circuit breakers, vacuum cleaners, coffee makers Calculators, generators, matching salt and pepper shakers  [Chorus] I can't wait, (no I) I can't wait (oh when) When are they gonna open up that door? I'm goin' (yes I'm) goin', I'm a-goin' to the Goin' to the (hard) ware I'm goin', really goin' to the Goin' (hard) I'm goin' to the (hard) oh yes, I'm goin' to the Hardware store I'm goin' (yes I'm) goin', I'm a-goin' to the Goin' to the (hard) ware I'm goin', really goin' to the Goin' (hard) I'm goin' to the (hard) oh yes, I'm goin' to the Hardware store  I'm goin' (yes I'm) goin', I'm a-goin' to the Goin' to the (hard) ware I'm goin', really goin' to the Goin' (hard) I'm goin' to the (hard) oh yes, I'm goin' to the Hardware store\n",
       "\n",
       "**Emotions:** \\boxed{joy, hope, obsession}"
      ],
      "text/plain": [
       "<IPython.core.display.Markdown object>"
      ]
     },
     "metadata": {},
     "output_type": "display_data"
    },
    {
     "data": {
      "text/markdown": [
       "**Lyric:** [Intro] Look, if you had, one shot To sit on your lazy butt, and watch all the TV you ever wanted Until your brain turned to mush, would you go for it Or just let it slip? Yo  [Verse 1] Remote is ready, eyes wide, palms are sweaty There's Flintstones on the TV already, Wilma and Betty No virgin to channel surfin', and I'm HD ready So I flip, garbage is all I'm getting There's Simon Cowell, who folks wanna disembowel He opens his mouth, always says something foul They're dying wow, wannabes are crying now He votes 'em out, time to throw in the towel Shows based on reality, oh the humanity Oh, Ozzy's family sure loves profanity Woah, the insanity, oh, dogs that crap and pee Home of depravity? No, they live happily Yo, plus Da Ali G Show, and Celebrity Mole Oh there's Anna Nicole, she's scarin' me Look, Ma ? No cavities! Oh, it's a station break Better go out to the kitchen and microwave something [Chorus] You're gonna lose your mind watching TV They told me, they'd scold me, but I'd still tune into every show My cable gets C-SPAN, TVLand, and HBO The Travel Channel, Discovery and Lifetime You're gonna lose your mind watching TV They told me, cajoled me, \"Turn off those music videos!\" I'm gonna watch C-SPAN, TVLand, and HBO The History Channel, and QVC, and Lifetime You're gonna...  [Verse 2] My butt is aching, as I watch NASCAR racing That show about undertaking, Larry King To 24, to Law & Order The Weather Channel's boring like 60 Minutes Ancient reporters, next up on E! True Hollywood Story The rise and decline of twelve actors named Corey Shows for next fall, they've already been namin' CSI: Boise, and Touched by an Uncle Both sound pretty lame, and So does Everybody Tolerates Raymond And King of Queens jumped the shark the first minute I can't believe Richard Simmons ain't in it I move right on to 8 Simple Rules For Dating My Teenage Daughter Then I bet I watch The Bachelorette Followed by Welcome Back, Kotter And The Muppet Show where they go \"Mahna Mahna\" [Chorus] You're gonna lose your mind watching TV They told me, they'd scold me, but I'd still tune into every show (oh) My cable gets C-SPAN, TVLand, and HBO The Disney Channel and A&E and Lifetime You're gonna lose your mind watching TV They told me, cajoled me, but I still love Lisa Kudrow (oh) I'm lookin at C-SPAN, TVLand, and HBO The Playboy Channel, and Court TV, and Lifetime You're gonna...  [Verse 3] Never miss Melrose Place or Lost in Space I've seen each Amazing Race and Without a Trace But I only watched Will & Grace, one time, one day Wish I hadn't, 'cause TiVo now thinks I'm gay Oh, and Fear Factor, I watched maybe a half hour After that, felt like I needed a long shower Network execs with naked ambition Next week on FOX watch lions eat Christians Like to tie up those programming planners Make them watch all that junk until their heads explode just like Scanners Leech-covered, grub-eating fools on Survivor Look, there's James Lipton discussing the oeuvre Of Mr. Rob Schneider And there's Gilligan and SpongeBob Plus there's MacGyver And Jay Leno has got Madonna Hey, there's Luke Perry And a special all Pig Latin episode of Drew Carey Wanna turn on ET 'Cause I'm a gossip freak And I gotta know who J-Lo is marrying this week A 30-second spot Welcome back to Are You Hot? I was planning on recording The Sopranos ? I forgot I love shows with or without a plot I'll stare 'til my legs are numb, my eyes bloodshot Because I only have got one brain to rot I'm gonna spend my life watching television a lot [Chorus] You're gonna lose your mind watching TV They told me, they'd scold me, but I still tune into every show (oh) My cable gets C-SPAN, TVLand, and HBO The Sci-Fi Channel and AMC and Lifetime You're gonna lose your mind watching TV They told me, cajoled me, turn off that Oprah Winfrey show (oh) I got it on C-SPAN, TVLand, and HBO The Learning Channel and MTV and Lifetime You're gonna...  [Outro] You can watch anything you want to, man\n",
       "\n",
       "**Emotions:** \\boxed{joy, nostalgia, obsession, sad}"
      ],
      "text/plain": [
       "<IPython.core.display.Markdown object>"
      ]
     },
     "metadata": {},
     "output_type": "display_data"
    },
    {
     "name": "stdout",
     "output_type": "stream",
     "text": [
      "✅ Auto-saved at row 15\n"
     ]
    },
    {
     "data": {
      "text/markdown": [
       "**Lyric:** It's all about the Pentiums, baby Uhh, uh-huh, yeah Uhh, uh-huh, yeah It's all about the Pentiums, baby It's all about the Pentiums, baby It's all about the Pentiums! It's all about the Pentiums! (Yeah!!)  What y'all wanna do? Wanna be hackers? Code crackers? Slackers Wastin' time with all the chatroom yakkers? 9 to 5, chillin' at Hewlett Packard? Workin' at a desk with a dumb little placard? Yeah, payin' the bills with my mad programming skills Defraggin' my hard drive for thrills I got me a hundred gigabytes of RAM I never feed trolls and I don't read spam Installed a T1 line in my house Always at my PC, double-clickin' on my mizouse Upgrade my system at least twice a day I'm strictly plug-and-play, I ain't afraid of Y2K I'm down with Bill Gates, I call him Money for short I phone him up at home and I make him do my tech support It's all about the Pentiums, what? You gotta be the dumbest newbie I've ever seen You've got white-out all over your screen You think your Commodore 64 is really neato What kinda chip you got in there, a Dorito? You're usin' a 286? Don't make me laugh Your Windows boots up in what, a day and a half? You could back up your whole hard drive on a floppy diskette You're the biggest joke on the Internet Your database is a disaster You're waxin' your modem, tryin' to make it go faster Hey fella, I bet you're still livin' in your parents' cellar Downloadin' pictures of Sarah Michelle Gellar And postin' \"Me too!\" like some brain-dead AOL-er I should do the world a favor and cap you like Old Yeller You're just about as useless as JPEGs to Helen Keller It's all about the Pentiums! It's all about the Pentiums! It's all about the Pentiums! It's all about the Pentiums!  Now, what y'all wanna do? Wanna be hackers? Code crackers? Slackers Wastin' time with all the chatroom yakkers? 9 to 5, chillin' at Hewlett Packard?  Uh, uh, loggin' in now Wanna run wit my crew, hah? Rule cyberspace and crunch numbers like I do? They call me the king of the spreadsheets Got'em all printed out on my bedsheets My new computer's got the clocks, it rocks But it was obsolete before I opened the box You say you've had your desktop for over a week? Throw that junk away, man, it's an antique!  Your laptop is a month old? Well, that's great If you could use a nice, heavy paperweight My digital media is write-protected Every file inspected, no viruses detected I beta tested every operating system Gave props to some, and others? I dissed'em While your computer's crashin', mine's multitaskin' It does all my work without me even askin' Got a flat-screen monitor, 40\" wide I believe that yours says, \"Etch-A-Sketch\" on the side In a 32-bit world, you're a 2-bit user You've got your own newsgroup, alt.total-loser Your motherboard melts when you try to send a fax Where'd you get your CPU, in a box of Cracker Jacks? Play me online? Well, you know that I'll beat you If I ever meet you I'll control-alt-delete you What? It's all about the Pentiums! It's all about the Pentiums! It's all about the Pentiums! It's all about the Pentiums!  What y'all wanna do? Wanna be hackers? Code crackers? Slackers Wastin' time with all the chatroom yakkers? 9 to 5, chillin' at Hewlett Packard? What?\n",
       "\n",
       "**Emotions:** \\boxed{joy, power, anger, obsession}"
      ],
      "text/plain": [
       "<IPython.core.display.Markdown object>"
      ]
     },
     "metadata": {},
     "output_type": "display_data"
    },
    {
     "data": {
      "text/markdown": [
       "**Lyric:** [Verse 1] Put down that chainsaw and listen to me It's time for us to join in the fight It's time to let your babies grow up to be cowboys It's time to let the bedbugs bite  You better put all your eggs in one basket You better count your chickens before they hatch You better sell some wine before its time You better find yourself an itch to scratch  You better squeeze all the Charmin you can while Mr. Whipple's not around Stick your head in the microwave and get yourself a tan  [Verse 2] Talk with your mouth full Bite the hand that feeds you Bite off more than you chew What can you do? Dare to be stupid Take some wooden nickels Look for Mr. Goodbar Get your mojo working now I'll show you how You can dare to be stupid  You can turn the other cheek You can just give up the ship You can eat a bunch of sushi and forget to leave a tip  [Chorus] Dare to be stupid Come on and dare to be stupid It's so easy to do Dare to be stupid We're all waiting for you Let's go  [Verse 3] It's time to make a mountain out of a molehill So can I have a volunteer There's no more time for crying over spilled milk Now it's time for crying in your beer  Settle down, raise a family, join the PTA Buy some sensible shoes and a Chevrolet Then party 'til you're broke and they drag you away It's OK, you can dare to be stupid It's like spitting on a fish It's like barking up a tree It's like I said you gotta buy one if you wanna get one free  [Chorus]  [Verse 4] Burn your candle at both ends Look a gift horse in the mouth Mashed potatoes can be your friends  You can be a coffee achiever You can sit around the house and watch Leave It To Beaver The future's up to you So what you gonna do  [Verse 5] Dare to be stupid Dare to be stupid What did I say Dare to be stupid Tell me, what did I say Dare to be stupid It's alright Dare to be stupid We can be stupid alright Dare to be stupid Come on, join the crowd Dare to be stupid Shout it out loud Dare to be stupid I can't hear you Dare to be stupid OK, I can hear you now Dare to be stupid Let's go, Dare to be stupid Dare to be stupid Dare to be stupid Dare to be stupid Dare to be stupid Dare to be stupid Dare to be stupid Dare to be stupid\n",
       "\n",
       "**Emotions:** \\boxed{joy, hope, power}"
      ],
      "text/plain": [
       "<IPython.core.display.Markdown object>"
      ]
     },
     "metadata": {},
     "output_type": "display_data"
    },
    {
     "data": {
      "text/markdown": [
       "**Lyric:** [Verse 1] I'm waking up, in Cheeto dust My belly's covered with pizza crust I'm using my inhaler now (Wheezes) I'm out of shape, fattening up I'm sipping Coke from a Solo Cup Donut crumbs are upon my lips, whoa  [Chorus] The TV's on, I really hate this show I can't reach my remote control Welcome to my new place, to my new place Sorry it's a cramped space, but it's my place Whoa oh, whoa I'm, really inactive, I'm so inactive Whoa oh, whoa I'm, really inactive, highly inactive  [Verse 2] My muscle's gone, I'm atrophied Always lose my fight with gravity I rest my bones, and just chillax, whoa My NordicTrack's collecting dust And my StairMaster's a pile of rust This is it, The Inertia [Chorus] I can't get up, this couch is part of me I'm growing cobwebs on my knee Pretty sad for my age, sad for my age I could break my rib cage, here is my age Whoa oh, whoa I'm, really inactive, yes, quite inactive Whoa oh, whoa I'm, really inactive, not very active  [Bridge] Near comatose, no exercise Don't tag my toe, I'm still alive  [Chorus] I'm giving up, my energy is shot I'm never moving from this spot Never move from this place, move from this place I'll stay here in this place, right in this place Whoa oh, whoa I'm, really inactive, just so inactive Whoa oh, whoa I'm, really inactive, not so attractive\n",
       "\n",
       "**Emotions:** \\boxed{sad, calm}"
      ],
      "text/plain": [
       "<IPython.core.display.Markdown object>"
      ]
     },
     "metadata": {},
     "output_type": "display_data"
    },
    {
     "data": {
      "text/markdown": [
       "**Lyric:** I finally made it through med school Somehow I made it through I'm just an intern I still make a mistake or two I was last in my class Barely passed at the institute Now I'm trying to avoid, yeah I'm trying to avoid A malpractice suit  Hey, like a surgeon Cuttin' for the very first time Like a surgeon Organ transplants are my line  Better give me all your gauze, nurse This patient's fading fast Complications have set in Don't know how long he'll last Let me see that I.V Here we go time to operate I'll pull his insides out, pull his insides out And see what he ate Like a surgeon, hey Cuttin' for the very first time Like a surgeon Here's a waiver for you to sign Woe, woe, woe  It's a fact, I'm a quack The disgrace of the A.M.A Cause my patients die, yeah, my patients die Before they can pay  Like a surgeon, hey Cuttin' for the very first time Like a surgeon Got your kidneys on my mind  Like a surgeon, ooh like a surgeon When I reach inside With my scalpel, and my forceps, and re-tractors Oh oh, oh oh, woe, oh Ooh baby, yeah I can hear your heartbeat For the very last time\n",
       "\n",
       "**Emotions:** \\boxed{joy, fear, sad, sexual, violence}"
      ],
      "text/plain": [
       "<IPython.core.display.Markdown object>"
      ]
     },
     "metadata": {},
     "output_type": "display_data"
    },
    {
     "data": {
      "text/markdown": [
       "**Lyric:** [Part 1 - Poker Face by Lady Gaga] Mum Mum Mum Mum Mum Mum Mum Mum Oh Woah oh oh oh Can't read minds Can't read minds No, he can't read them by a polka face She ain't got to love nobody Can't read minds Can't read minds No, he can't read them by a polka face She ain't got to love nobody P-p-p-polka face Mum Mum Mum Mum P-p-p-polka face Hey!  [Part 2 - Womanizer by Britney Spears] Womanizer-Woman-Womanizer You're a womanizer Oh, Womanizer Oh, you're a womanizer baby You you you are You you you are Womanizer Womanizer Womanizer Boy don't try to front I know just what you are Boy don't try to front I know just what you are You! You say I'm crazy You! I got your crazy! You! You're nothing but a You! Womanizer! [Part 3 - Right Round by Flo Rida] You spin my head right round, right round When you go down, when you go down You spin my head right round, right round When you go down, when you go down Hey!  [Part 4 - Day 'n' Nite by Kid Cudi] Day and night The lonely stoner seems to free his mind at night He's all alone through the day and night The lonely loner seems to free his mind at night At-At-At night!  [Part 5 - Need You Now by Lady A] It's a quarter after one And I'm a little drunk And I need you now Said I wouldn't call But I lost all control And I need you now And I don't know how I can do without I just need you now  [Part 6 - Baby by Justin Bieber] And I was like.... Baby, Baby, Baby Baby, Baby, Baby I though you'd always be mine [Part 7 - So What by P!nk] So, so what, I'm still a rock star I got my rock moves And I don't need you And guess what? I'm having more fun And now what we're done I'm gonna show you tonight I'm alright, I'm just fine and you're a tool So, so what, I'm still a rock star I got my rock moves And I don't want you tonight  [Part 8 - I Kissed a Girl by Katy Perry] I kissed a girl and I liked it The taste of her cherry chapstick I kissed a girl just to try it I hope my boyfriend don't mind it It felt so wrong it felt so right Don't mean I'm in love tonight I kissed a girl and I liked it I liked it  [Part 9 - Fireflies by Owl City] And I like to make myself believe That planet earth turns slowly It's hard to say that I'd rather stay awake When I'm asleep Because everything is never as it seems [Part 10 - Blame It by Jamie Foxx] Blame it on the goose Got you feeling loose Blame it on the Tron Got me in the zone Blame it on the a-a-a-a-a-alcohol Blame it on the a-a-a-a-a-alcohol Blame it on the vodka Blame it on the henny Blame it on the blue-tap Got you feeling dizzy Blame it on the a-a-a-a-a-alcohol Blame it on the a-a-a-a-a-alcohol  [Part 11 - Replay by Iyaz] Shawty's like a melody in my head That I can't keep out Got me singin' like Na na na na everyday Its like my iPod's stuck on replay Stuck on replay Stuck on replay Replay Replay Replay-ay-ay  [Part 12 - Down by Jay Sean] Baby, are you down? Down? down? down? Baby, are you down?  [Part 13 - Break Your Heart by Taio Cruz] I'm only gonna break, break your break break your heart I'm only gonna break, break your break break your heart I'm only gonna break, break your break break your heart I'm only gonna break your heart Hey!  [Part 14 - Tik Tok by Ke$ha] Don't stop Make it pop DJ blow my speakers up Tonight I'mma fight 'til we see the sunlight Tick-Tock On the clock But the polka don't stop, no Yodel-yodel-lady-hoo Yodel-yodel-lady-hoo  [Part 15 - Polka Face Reprise] P-p-p-polka face P-p-p-polka face P-p-p-polka face P-p-p-polka face Oh no, you can't read my P-p-p-polka face P-p-p-polka face P-p-p-polka face\n",
       "\n",
       "**Emotions:** \\boxed{joy, sexual, power, sad, tender}"
      ],
      "text/plain": [
       "<IPython.core.display.Markdown object>"
      ]
     },
     "metadata": {},
     "output_type": "display_data"
    },
    {
     "name": "stdout",
     "output_type": "stream",
     "text": [
      "✅ Auto-saved at row 20\n"
     ]
    },
    {
     "data": {
      "text/markdown": [
       "**Lyric:** [Verse 1] Riding in the bus down the boulevard And the place was pretty packed (Yeah!) Couldn't find a seat so I had to stand With the perverts in the back It was smelling like a locker room There was junk all over the floor We're already packed in like sardines But we're stopping to pick up more, look out  [Hook] Another one rides the bus Another one rides the bus Another comes on and another comes on Another one rides the bus Hey, he's gonna sit by you Another one rides the bus  [Verse 2] There's a suitcase poking me in the ribs There's an elbow in my ear There's a smelly old bum standing next to me Hasn't showered in a year I think I'm missing a contact lens I think my wallet's gone And I think this bus is stopping again To let a couple more freaks get on, look out [Hook] Another one rides the bus Another one rides the bus Another comes on and another comes on Another one rides the bus Hey, he's gonna sit by you Another one rides the bus  [Bridge] Another one rides the bus Another one rides the bus, ow Another one rides the bus, hey-hey Another one rides the bus, hey-ey-ey-ey ey ey eyyyyyy  [Verse 3] The window doesn't open and the fan is broke And my face is turning blue (Yeah) I haven't been in a crowd like this Since I went to see The Who Well I should've got off a couple miles ago But I couldn't get to the door There isn't any room for me to breathe And now we're gonna pick up more, yeaaah  [Hook] Another one rides the bus Another one rides the bus Another comes on and another comes on Another one rides the bus Hey, he's gonna sit by you Another one rides the bus\n",
       "\n",
       "**Emotions:** \\boxed{joy, anger, sad, fear}"
      ],
      "text/plain": [
       "<IPython.core.display.Markdown object>"
      ]
     },
     "metadata": {},
     "output_type": "display_data"
    },
    {
     "data": {
      "text/markdown": [
       "**Lyric:** [Verse 1] Gump sat alone on a bench in the park \"My name is Forrest,\" he'd casually remark Waiting for the bus with his hands in his pockets He just kept saying life is like a box of chocolates  [Chorus] He's Gump, He's Gump What's in his head? He's Gump, He's Gump, He's Gump Is he inbred?  [Verse 2] Gump was a big celebrity He told JFK that he really had to pee He never feels too dumb because His mom always told him stupid is as stupid does  [Chorus] He's Gump, He's Gump He's kinda square He's Gump, He's Gump, He's Gump What's with that hair? WOWWWWWWW!!! [Bridge] Run... run... run, run, now Forrest Run... run... run like the wind now Run... run... run, run, now Forrest Run... stop!  [Verse 3] His buddy Bubba was a shrimp-loving man His friend with no legs he called Lieutenant Dan His girlfriend Jenny was kind of a slut He went to the White House, showed LBJ his butt  [Chorus] He's Gump, He's Gump He's not too bright He's Gump, He's Gump, He's Gump But he's alright  [Outro] Is this Gump out of his head? I think so Is this Gump really brain dead? I think so Did this Gump make lots of bread? I think so And that's all I have to say about that\n",
       "\n",
       "**Emotions:** \\boxed{nostalgia, joy, calm, hope}"
      ],
      "text/plain": [
       "<IPython.core.display.Markdown object>"
      ]
     },
     "metadata": {},
     "output_type": "display_data"
    },
    {
     "data": {
      "text/markdown": [
       "**Lyric:** [Part 1 - \"Loser\" by Beck] Soy un perdedor! I'm a loser, baby! So why dont you kill me? Everybody! Soy un perdedor! I'm a loser, baby! So why dont you kill me? HEY!  [Part 2 - \"Sex Type Thing\" by Stone Temple Pilots] I am, I am, I am I said I wanna get next to you I said I'm gonna get close to you You wouldn't want me have to hurt you too Hurt you too I know you want what's on my mind I know you like what's on my mind I know it eats you up inside I know, you know, you know, you know Here I come, I come, I come, I come Here I come, I come, I come, I come [Part 3 - \"All I Wanna Do\" by Sheryl Crow] 'Cause all I wanna do is have some fun I've got a feeling I'm not the only one All I wanna do is have some fun I've got a feeling I'm not the only one All I wanna do is have some fun Until the sun comes up over Santa Monica Boulevard  [Part 4 - \"Closer\" by Nine Inch Nails] HELP ME! I broke apart my insides HELP ME! I got no soul to sell HELP ME! The only thing that works for me Help me get away from myself I wanna (BOING) you like an animal I wanna feel you from the inside I wanna (BOING) you like an animal My whole existence is flawed You get me closer to god Hey! Hey! Hey!  [Part 5 -\"Bang and Blame\" by R.E.M.] You bang, bang, bang, bang, bang Blame, blame, blame You bang, bang, bang, bang, bang It's not my thing so let it go! [Part 6 - \"You Oughta Know\" by Alanis Morissette] 'Cause that love that you gave that we made Wasn't able to make it enough For you to be open wide, no And every time you speak her name Does she know how you told me you'd hold me Until you die, 'til you die But you're still alive And I'm here to remind you of the mess you left When you went away It's not fair to deny me of the cross I bare that you gave to me You oughta know HEY!  [Part 7 - \"Bullet with Butterfly Wings\" by Smashing Pumpkins] Despite all my rage I am still just a rat in a cage Despite all my rage I am still just a rat in a cage And someone will say what is lost can never be saved Despite all my rage I am still just a rat in a cage  [Part 8 - \"My Friends\" by Red Hot Chili Peppers] I love all of you Hurt by the cold So hard and lonely too When you don't know yourself [Part 9 - \"I'll Stick Around\" by Foo Fighters] I don't owe you anything! I don't owe you anything! I don't owe you anything! I don't owe you anything!  [Part 10 - \"Black Hole Sun\" by Soundgarden] Black hole sun Won't you come And wash away the rain Black hole sun Won't you come, won't you come Black hole sun, black hole sun Won't you come Black hole sun, black hole sun Won't you come Black hole sun, black hole sun  [Part 11 - \"Basket Case\" by Green Day] Do you have the time To listen to me whine About nothing and everything all at once? I am one of those melodramatic fools Neurotic to the bone no doubt about it Sometimes I give myself the creeps Sometimes my mind plays tricks on me It all keeps all adding up I think I'm cracking up And am I just Paranoid Am I just stoned? Or am I just stoned?\n",
       "\n",
       "**Emotions:** "
      ],
      "text/plain": [
       "<IPython.core.display.Markdown object>"
      ]
     },
     "metadata": {},
     "output_type": "display_data"
    },
    {
     "data": {
      "text/markdown": [
       "**Lyric:** (Lights up on Aaron Burr & the company.)  [AARON BURR] How does a bastard, orphan, son of a whore and a Scotsman Dropped in the middle of a forgotten Spot in the Caribbean by providence, impoverished, in squalor Grow up to be a hero and a scholar?  [JOHN LAURENS] The ten-dollar Founding Father without a father Got a lot farther by working a lot harder By being a lot smarter By being a self-starter By fourteen, they placed him in charge of a trading charter  [THOMAS JEFFERSON] And every day while slaves were being slaughtered and carted Away across the waves, he struggled and kept his guard up Inside, he was longing for something to be a part of The brother was ready to beg, steal, borrow, or barter [JAMES MADISON] Then a hurricane came, and devastation reigned Our man saw his future drip, dripping down the drain Put a pencil to his temple, connected it to his brain And he wrote his first refrain, a testament to his pain  [BURR] Well, the word got around, they said, ?This kid is insane, man? Took up a collection just to send him to the mainland ?Get your education, don?t forget from whence you came, and The world's gonna know your name. What?s your name, man??  [ALEXANDER HAMILTON] Alexander Hamilton My name is Alexander Hamilton And there?s a million things I haven?t done But just you wait, just you wait...  [ELIZA HAMILTON] When he was ten his father split, full of it, debt-ridden Two years later, see Alex and his mother bed-ridden Half-dead sittin' in their own sick, the scent thick  [FULL COMPANY EXCEPT HAMILTON (whispering)] And Alex got better but his mother went quick [GEORGE WASHINGTON] Moved in with a cousin, the cousin committed suicide Left him with nothin? but ruined pride, something new inside A voice saying  [WASHINGTON] ?You gotta fend for yourself.?\t[COMPANY] ?Alex, you gotta fend for yourself.? [WASHINGTON] He started retreatin? and readin? every treatise on the shelf  [BURR] There would have been nothin? left to do For someone less astute He woulda been dead or destitute Without a cent of restitution Started workin?, clerkin? for his late mother?s landlord Tradin? sugar cane and rum and all the things he can?t afford Scammin? for every book he can get his hands on Plannin? for the future see him now as he stands on The bow of a ship headed for a new land In New York you can be a new man  [COMPANY] Scammin? Plannin? Oooh... [COMPANY] In New York you can Be a new man? In New York you can Be a new man?\t[HAMILTON] Just you wait!  Just you wait! [COMPANY] In New York you can be a new man?  [WOMEN] In New York? [MEN] New York? [HAMILTON] Just you wait!  [COMPANY] Alexander Hamilton  We are waiting in the wings for you  You could never back down You never learned to take your time!  Oh, Alexander Hamilton  When America sings for you Will they know what you overcame? Will they know you rewrote the game? The world will never be the same, oh  [BURR] The ship is in the harbor now See if you can spot him  Another immigrant Comin? up from the bottom  His enemies destroyed his rep America forgot him [COMPANY] Alexander Hamilton  Waiting in the wings for you  You never learned to take your time!  Oh, Alexander Hamilton Alexander Hamilton? America sings for you Will they know what you overcame? Will they know you rewrote the game? The world will never be the same, oh   [MEN] Just you wait  [COMPANY] Just you wait    [MULLIGAN/MADISON & LAFAYETTE/JEFFERSON] We fought with him  [LAURENS/PHILIP] Me? I died for him  [WASHINGTON] Me? I trusted him  [ELIZA & ANGELICA & PEGGY/MARIA] Me? I loved him  [BURR] And me? I?m the damn fool that shot him  [COMPANY] There?s a million things I haven?t done But just you wait!  [BURR] What?s your name, man?  [COMPANY] Alexander Hamilton!\n",
       "\n",
       "**Emotions:** \\boxed{anger, hope, nostalgia, power, sad}"
      ],
      "text/plain": [
       "<IPython.core.display.Markdown object>"
      ]
     },
     "metadata": {},
     "output_type": "display_data"
    },
    {
     "data": {
      "text/markdown": [
       "**Lyric:** [Verse 1] Well I heard that you're leavin' (Leavin') Gonna leave me far behind (So far behind) 'Cause you found a brand new lover You decided that I'm not your kind  [Verse 2] So I pulled (I pulled), your name out (Name out), of my Rolodex And I tore all your pictures in two And I burned down the malt shop where we used to go Just because it reminds me of you  [Refrain 1] That's right (That's right), you ain't gonna see me cryin' I'm glad (I'm glad), that you found somebody new 'Cause I'd rather spend eternity eating shards of broken glass Than spend... one more minute... with you  [Verse 3] I guess I might seem kind of bitter You got me feelin' down in the dumps 'Cause I'm stranded all alone, in the gas station of love And I have to use the self-service pumps [Refrain 2] Oh, so honey, let me help you with that suitcase You ain't (You ain't) gonna break my heart in two 'Cause I'd rather get a hundred-thousand paper cuts on my face Than spend... one more minute... with you  [Bridge] I'd rather rip out my intestines with a fork Than watch you goin' out with other men I'd rather slam my fingers in a door Again and again and again and again and again  Oh, can't you see what I'm tryin' to say, darlin', I'd...  [Refrain 3] Rather have my blood sucked out by leeches Shove an ice pick under a toenail or two I'd rather clean all the bathrooms in Grand Central Station with my tongue Than spend... one more minute... with you  [Refrain 4] Yes, I'd rather jump naked on a huge pile of thumbtacks Or stick my nostrils together with Krazy Glue? I'd rather dive into a swimming pool filled with double-edged razor blades Than spend... one more minute... with you [Outro] I'd rather rip my heart right out of my rib cage with my bare hands And then throw it on the floor and stomp on it 'til I die (gasp) Than spend... one more minute... with you\n",
       "\n",
       "**Emotions:** \\boxed{anger, sad, violence}"
      ],
      "text/plain": [
       "<IPython.core.display.Markdown object>"
      ]
     },
     "metadata": {},
     "output_type": "display_data"
    },
    {
     "name": "stdout",
     "output_type": "stream",
     "text": [
      "✅ Auto-saved at row 25\n"
     ]
    },
    {
     "data": {
      "text/markdown": [
       "**Lyric:** [Verse 1] One time I was in the checkout line Behind Steven Seagal Once I'm pretty sure Mr. Jonah Hill Was in the very next bathroom stall My best friend's brother Well, he was an extra in Wayne's World 2 My neighbor's babysitter Dated three of the guys in Motley Crüe I swear Jack Nicholson Looked right at me at a Lakers game  [Hook] I got a lame Lame claim to fame Ooh wee!  [Verse 2] Check it out I bought a secondhand toaster From a guy who says he knows Brad Pitt I got me an e-mail from the prince of Nigeria Well, he sure sounded legit My sister used to take piano lessons From the second cousin of Ralph Nader Last year I threw up in an elevator Next to Christian Slater Well, guess what? My birthday and Kim Kardashian's Are exactly the same [Hook] I got a lame Lame claim to fame A really lame Lame claim to fame  [Bridge] Once at a party, my dentist accidentally sneezed on Russell Crowe I posted \"First!\" in the comments on a YouTube video I tried to sit by Steve Buscemi, but he told me \"This seat's taken\" I know a guy who knows a guy who knows a guy who knows a guy Who knows a guy who knows Kevin Bacon Ooh wee!  [Verse 3] I had a car that used to belong To Cuba Gooding Jr.'s uncle A friend of mine in high school Had jury duty with Art Garfunkel One time I was staying in the same hotel As Zooey Deschanel I used the same napkin dispenser as Steve Carell At a Taco Bell Well, I don't mean to brag but Paul Giamatti's plumber knows me by name  [Hook] I got a lame Lame claim to fame A really lame Lame claim to fame That's right, I'm talkin' lame Lame claim to fame A really, really, really lame Lame claim to fame Ow, let's get lame, boys!\n",
       "\n",
       "**Emotions:** \\boxed{joy, calm, nostalgia}"
      ],
      "text/plain": [
       "<IPython.core.display.Markdown object>"
      ]
     },
     "metadata": {},
     "output_type": "display_data"
    },
    {
     "data": {
      "text/markdown": [
       "**Lyric:** [Intro] Watch this...  [Hook] These are my confessions Just when I thought I said all I could say I came up with more secrets to tell you today These are my confessions Slipped my mind the last two times, silly me So now I gotta give you part three of my confessions First I told you 'bout that skank that I was cheatin' wit' (Wit') Then I mentioned she's having my kid But that's not all, no, I recall more you see So I give you part three of my confessions  [Verse 1] Now this gonna be the hardest thing I think I ever had to do Gonna tell you everything left out of Parts 1 and 2 Like remember when I told you I knew Pauly Shore? Pauly Shore?that's a lie, I dont know what I said that for I borrowed your Chapstick (From you) without asking Oh, and I tried out your nose-hair trimmer, too And, by the way, your diamond ring is cubic zirconium Killed your goldfish accidentally, just replaced it with another one [Hook] These are my confessions Just when I thought I said all I could say I need to get some things off my chest right away These are my confessions Slipped my mind the last two times, silly me So now I gotta give you Part 3 of my confessions Threw up on your dog last time I had too much to drink There's been times that I've peed in your sink Don't know why, but you and I should agree That belongs in Part 3 of my confessions  [Verse 2] Baby, forgive me, I'm still trying to figure out Why I used your toothbrush to clean off my bathroom grout Oh, and sometimes, in private Really like to dress up like Shirley Temple and spank myself with a hockey stick?hockey stick My boss thinks I'm a jerk, I didn't get that raise I haven't changed my underwear in twenty-seven days And when I'm kissing you, I fantasize you're a midget I'm so sorry, Debbie?I mean, Bridget  [Hook] These are my confessions Just when I thought I said all I could say I got some more secrets I'd like to convey These are my confessions Slipped my mind the last two times, silly me So now I gotta give you Part 3 of my confessions Gave you Buttered Toast I dropped and picked up off the floor FYI that was not a cold sore Oops! My bad! But you'll be madder at me When I finish Part 3 of my confessions [Spoken] You don't know how hard it is for me to tell you this. But remember that shirt you got me for my birthday? Well, I returned it for store credit. That thing was hideous. What were you thinking? Oh, and by the way, I wasn't really sick last week. I just didn't want to go to your stupid office picnic. Oh, and at breakfast, when I told you we were all out of Rice Krispies, what I meant was there was only enough left for me. Sorry  [Hook] These are my confessions Just when I thought all I could say I thought up of more things that should scare you away These are my confessions Slipped my mind the last two times, silly me So now I gotta give you Part 3 of my confessions Once I blew my nose, and then I wiped it on your cat (Cat) And I lied, yes, that dress makes you look fat Anyway, I shouldn't say any more 'Til I give you Part 4 of my confessions  [Outro] I mean, I'm just getting started here. I'm not even halfway down the list. This thing could go on for... Hey! Where are you goin'? Honey? What? Was it something I said? Ugh... Women...\n",
       "\n",
       "**Emotions:** \\boxed{joy, sexual, obsession, sad}"
      ],
      "text/plain": [
       "<IPython.core.display.Markdown object>"
      ]
     },
     "metadata": {},
     "output_type": "display_data"
    },
    {
     "data": {
      "text/markdown": [
       "**Lyric:** [Intro] Ow! Help me out, dig  [Verse 1] All I do is grunt and groan, hurts me to walk anywhere Went to see my physician, Dr. Jones  He took my trousers off, told me to cough Doctor says there ain't nothin' to discuss  He tells me any day, I might have to wear a truss  [Chorus 1] Living with a hernia, all the time, such aggravation Living with a hernia, gonna be my ruination Living with a hernia, got to have an operation Feel so old  [Verse 2] Too much bad pain, good gawd, drives me insane Can't run, barely crawl, got a bulge in my intestinal wall Walk real funny, bless my soul, can't play tennis And it's hard to bowl You can't even do the splits now, say it Better call it quits now, now I'm sick of all this dancin' anyhow [Chorus 2] Living with a hernia, hurts me bad in a tender location Living with a hernia, had enough humiliation Living with a hernia, got to have an operation I live with a hernia, can't get up, can't bend over Now I live with a hernia, wait a minute  [Bridge] You may not be familiar with the common types Of hernias that you could get So just settle down, let me clue you in there's incomplete Epigastric, bladder, strangulated, lumbar hernia, Richter's hernia Obstructed, inguinal and direct  [Chorus 3] Living with a hernia rupture I said it's causin' me such irritation Living with a hernia, have to have my medication Living with a hernia, I feel bad\n",
       "\n",
       "**Emotions:** \\boxed{sad, anger, fear}"
      ],
      "text/plain": [
       "<IPython.core.display.Markdown object>"
      ]
     },
     "metadata": {},
     "output_type": "display_data"
    },
    {
     "data": {
      "text/markdown": [
       "**Lyric:** I can't watch this I can't watch this I can't watch this I can't watch this  My my my my TV makes me so bored Makes me say, oh my Lord What is this garbage here? Wanna cover my eyes and plug my ears It sucks, and that's no lie It's about as much fun as watching paint dry Lowers my IQ one notch And that's the reason why, uh, I can't watch  I told you homeboy, I can't watch this Yeah, nothin' but trash and you know, I can't watch this Poke out my eyes, man, I can't watch this Yo, gimme that remote control, I can't watch this  Talkin' 'bout sick shows There's America's Funniest Home Videos I can't believe my eyes When I see the kind of stuff that wins first prize Somebody's poor old mom Falls down off the roof, lands right on the lawn Face first on a rake I hear they got it on the seventeenth take That's funny as a kick in the crotch And that kind of show, uh, I can't watch Yo, I told you, I can't watch this Change the channel now, man, I can't watch this Yo, pass the TV Guide here, sucker, I can't watch this  Cosby Show and Roseanne Think I've taken 'bout as much as I can Judge Wapner, oh my You gotta be Rain Man to like this guy Thirtysomething is alright If you like hearing yuppies whining all night Can't stand Twin Peaks Wish they'd lynch those donut-eatin' freaks Those Siskel and Ebert bums Oughta go home and sit on their thumbs  That's word because you know, I can't watch this I can't watch this Break it down  Here's how to order Money back guarantee Removes tough stains fast It tastes more like fresh peanuts They keep going and going Don't hate me because I'm beautiful Could be dandruff Our prices are insane! Stop, primetime I'm pretty sure I'll be sick If I have to watch another stupid pet trick Or that guy with the real flat hair That goes 'Woof woof woof' and waves his fist in the air Those weird talk shows About transsexual Nazi Eskimos They're rude, crude and vile Just for a minute let's flip down the dial  Flip, flip, flip, eww, I can't watch this Look man, I can't watch this I can't take this torture no more, I can't I can't watch this Pay the bills, station break Break it down  Operators are standing by Cubic zirconium necklace You're soaking in it And our fabulous swimsuit issue When you've got a headache this big Read the book This is your brain on drugs I've fallen and I can't get up! Stop, cable time HBO and Playboy, Showtime and MTV I might like 'em more after my lobotomy Now why did I ever pay for this junk? I hooked up eighty channels and each one stunk Just brainless blood and guts And mindless T&A It's awful, it's putrid, it's crummy, it's stupid Gonna throw my set away  I can't watch this I can't watch this I can't watch this Yeah, I can't watch this I told you, can't watch this Too hip, can't watch this Get me outta here, can't watch this\n",
       "\n",
       "**Emotions:** \\boxed{anger, sad}"
      ],
      "text/plain": [
       "<IPython.core.display.Markdown object>"
      ]
     },
     "metadata": {},
     "output_type": "display_data"
    },
    {
     "data": {
      "text/markdown": [
       "**Lyric:** Since you've been gone Well, I feel like I've been chewing on tinfoil Since you've been gone It's like I got a great big mouthful of cod liver oil Oh well, I'm feelin like I stuck my hand Inside a blender and turned it on You know, I've been in a buttload of pain Since you've been gone  (Since you've been gone) I couldn't feel any worse if you dropped A two-ton bowling ball on my toes (Since you've been gone) It couldn't hurt any more if you shoved A red-hot cactus up my nose  Since you've been gone Well, it feels like I'm getting tetanus shots every day Since you've been gone It's like I've got an ice cream headache that won't go away Ever since that day you left me I've been so miserable, my dear I feel almost as bad as I did When you were still here\n",
       "\n",
       "**Emotions:** \\boxed{sad, anger, obsession}"
      ],
      "text/plain": [
       "<IPython.core.display.Markdown object>"
      ]
     },
     "metadata": {},
     "output_type": "display_data"
    },
    {
     "name": "stdout",
     "output_type": "stream",
     "text": [
      "✅ Auto-saved at row 30\n"
     ]
    },
    {
     "data": {
      "text/markdown": [
       "**Lyric:** [Verse 1] Poor Peter Parker was pitiful Couldn't have been any shyer Mary Jane still wouldn't notice him Even if his hair was on fire But then one day he went to that science lab That mutated spider came down Oh, and now Peter crawls over everyone's walls And he's swingin' all over town  [Pre-Chorus] La li la, li de da La la, li le la da dum  [Chorus] Sling us a web, you're the Spider-Man Sling us a web tonight Cause we're all in the mood for a hero now And there's evildoers to fight  [Verse 2] Now Harry the rich kid's a friend of his Who horns in on Mary Jane But to his great surprise, it seems she prefers guys Who can kiss upside down in the rain \"With great power comes great responsibility\" That's the catch phrase of old Uncle Ben If you missed it, don't worry, they'll say the line Again and again and again [Pre-Chorus] Oh, la la la, di de da La la, di di da da dom  [Verse 3] Now Norman's a billionare scientist Who never had time for his son But then something went screwy and before you knew he Was trying to kill everyone And he's ridin' around on that glider thing And he's throwin' that weird pumpkin bomb Yes, he's wearin' that dumb Power Rangers mask But he's scarier without it on  [Chorus] Sling us a web, you're the Spider-Man Sling us a web tonight Cause you're brave and you're strong and so limber now But where'd you come up with those tights?  [Verse 4] It's a pretty sad day at the funeral Norman Osborn has bitten the dust And I heard Harry's said he wants Spider-Man dead Aw, but his buddy Pete he can trust Oh, and MJ is all hot for Peter now Aw, but Peter, he just shuts her down Mary Jane, don't you cry, you can give it a try Again when the sequel comes 'round [Pre-Chorus] Oh, la la la, di de da La la, di di da da dum  [Chorus] Sling us a web, you're the Spider-Man Sling us a web tonight Cause we all sure could use us a hero now And we think that you'll do all right\n",
       "\n",
       "**Emotions:** \\boxed{joy, hope, nostalgia, power, sad}"
      ],
      "text/plain": [
       "<IPython.core.display.Markdown object>"
      ]
     },
     "metadata": {},
     "output_type": "display_data"
    },
    {
     "data": {
      "text/markdown": [
       "**Lyric:** [Intro] Beverly hillbillies  [Verse 1] Huh Now lookie here people, listen to my story A little story 'bout a man named Jed You know something? That poor mountaineer They say he barely kept his family fed  [Verse 2] Now let me tell you, one day he was shootin' Old Jed was shootin' at some food When all of a sudden, right up from the ground there Well, there came a bubblin' crude  [Chorus 1] Oil, that is, well, maybe you call it Black gold or Texas tea He gonna move next to Mr. Drysdale And be a Beverly Hillbilly [Verse 3] Before you know it, all the kinfolk are a-sayin' Yeah, buddy, move away from there That little Clampett got his own cement pond That little Clampett, he's a millionaire  [Chorus 2] Now, everyone said Californ-y Is the place that you oughta be We got to load up this here truck now We got to move to Beverly Hills, that is  [Outro] Swimming pools Move-a-move-a-movie stars Huh Look at that, look at that  Beverly Beverly Beverly hillbillies Y'all come back now, y'hear? Beverly Beverly Beverly hillbillies Beverly Beverly Beverly hillbillies Beverly Beverly Beverly hillbillies\n",
       "\n",
       "**Emotions:** \\boxed{joy, nostalgia, hope}"
      ],
      "text/plain": [
       "<IPython.core.display.Markdown object>"
      ]
     },
     "metadata": {},
     "output_type": "display_data"
    },
    {
     "data": {
      "text/markdown": [
       "**Lyric:** [Verse 1} Sometimes I really want to be alone But that's one state I'm never in Because I know that I've got millions upon millions Of tiny, one-celled organisms living on my skin  [Pre-Chorus 1] (Germs) I rub and scrub until my flesh is raw and bleeding (Germs) But they just come right back again (Germs) I can't even see'em But I know they're up to something Hey, don't touch that - you don't know where it's been!  [Chorus] They're all over me They're inside of me Can't get'em offa me I'm covered with... (microscopic bacteria) What do they want from me? What'll they do to me? There's no escape for me I'm crawling with... (microscopic bacteria) [Verse 2] Now if I ever dare to go to sleep That's when they start their sneak attack In the morning I wake up in utter horror To find my teeth are covered with bacterial plaque  [Pre-Chorus 2] (Germs) Can't get those parasitic creatures off my face (Germs) And there's more comin' every day (Germs) I never said that they could camp out on my body I wish they'd pack their tiny little bags and move away  [Chorus] They're all over me They're inside of me Can't get'em offa me I'm covered with... (microscopic bacteria) What do they want from me What'll they do to me? There's no escape for me I'm crawling with... (microscopic bacteria)  [Bridge] They're creepin' around my shorts They're under the bathroom sink They're ridin' inside my car They're swimmin' in every drink They're hidin' between my toes They're lurkin' in every kiss I got'em way up my nose In every orifice I'm gonna show them who's boss I'm gonna get even yet Just gimme some Lysol spray Just hand me a moist towelette Don't tell me I'm paranoid I know that they're after me Look under the microscope See... {Chorus] They're all over me They're inside of me Can't get'em offa me I'm covered with... (microscopic bacteria) What do they want from me What'll they do to me? There's no escape for me I'm crawling with... (microscopic bacteria)  [Outro] (Germs) They're all over me (Germs) I can feel'em all over me (Germs) Over every part of me (Germs) (Microscopic bacteria) (Germs) I know they're watching me (Germs) They're always watching me (Germs) They're coming after me (Germs) (Microscopic bacteria) (Germs) Won't somebody help (Microscopic bacteria) (Germs) Please sombody help me (Microscopic bacteria) (Germs) You've got to believe me (Microscopic bacteria) (Germs) They're out to get me (Microscopic bacteria) (Germs) They wanna control me (Microscopic bacteria) (Germs) They wanna destroy me (Microscopic bacteria) (Germs) They're tryin' to kill me (Microscopic bacteria) (Germs) It kind of upsets me (Microscopic bacteria) Uhh...\n",
       "\n",
       "**Emotions:** \\boxed{\"fear, obsession, anger\"}"
      ],
      "text/plain": [
       "<IPython.core.display.Markdown object>"
      ]
     },
     "metadata": {},
     "output_type": "display_data"
    },
    {
     "data": {
      "text/markdown": [
       "**Lyric:** It's rotten, so rotten here So rotten, ah, oh!  [Verse 1] It was like, the last day before trash day (uh) My place was getting kinda nasty (uh) Even know the garbage I knew would reek (ya know) Thought that I could leave it for one more week Then I, I'm taking, birthday cake (oh) and chile and greasy old bacon Throw in all on top of the mess I've been making Wife so mad she start to shaking Leaky bag and now the girl is gagging She's nagging, I need you to get that stuff of the kitchen floor (oh) Is that too much to ask you for (oh) But I see no reason why, I can't let a few more weeks go by (uh uh) And that garbage is piled up high And buddy you should see the flies I said..  [Hook] There something rotten here (say what) You better hold your nose (oh) Hey you disgusting slob, you better take the trash out (uh uh uh uh, oh) Boy there's a lot in here (a lot) And everyday it grows (oh) (Hey you disgusting slob, you better take the trash out) Uh uh uh, make you Wanna throw up [Verse 2] Look at all this garbage that I keep generating (come on) I sit around all day and watch it biodegrading Bet there's a hundred health codes that I'm violating Even my dog passed out and needed resuscitating You won't believe it, take a whiff of that aroma Sure to put you in a coma It's so messy can't find my toenail clippers It's so bad the roaches wearing slippers Worn, sweaty clothes, pile up in this joint Stand up by themselves at this point It's so filthy now baby I can't lie I wipe my feet before I go outside I wonder what crawled in here and died Ya know, walking around barefoot I'd be terrified But it gives me stuff to talk about with my friends, like Hey I think them rats getting big (oh)  [Hook] There's something rotten here (say what) You better hold your nose (oh) (Hey you disgusting slob, you better take the trash out) uh uh uh uh, oh Look what we got in here (now what) Let's watch it decompose (oh) (Hey you disgusting slob, you better take the trash out)uh uh uh uh, make You wanna throw up [Bridge] With a little bit a (vomiting noise) And a little bit a (vomiting noise) Make me wanna throw up It makes you wanna (vomiting noise) Just makes you wanna (vomiting noise) Oh  [Verse 3] Some Lysol, some Comet I got a mop and it's got your name on it (What?) I'm just kidding doggone it (Oh) Unless your gonna do it Careful not to (ay) breathe the fumes The garbage piles are going all the way to the bathroom Turn into toxic waste sometime this afternoon Better get a Hazmat suit and a push broom Oh  [Hook] There's something rotten here (say what) You better hold your nose (oh) (Hey you disgusting slob, you better take the trash out)uh uh uh uh, oh It's kinda pot in here (tear pot) Bring out the fire hose (oh) (Hey you disgusting slob, you better take the trash out)uh uh uh uh, make You wanna throw up [Ending] With a little bit a And a little bit a Make me wanna throw up Give a little bit a And a tiny bit a Make you wanna throw up Mix a little bit a With a molecule of a Make me wanna throw up It makes me wanna Just makes me wanna Oh!\n",
       "\n",
       "**Emotions:** \\boxed{anger, sad, fear}"
      ],
      "text/plain": [
       "<IPython.core.display.Markdown object>"
      ]
     },
     "metadata": {},
     "output_type": "display_data"
    },
    {
     "data": {
      "text/markdown": [
       "**Lyric:** [Verse 1] Coming this Christmas to a theatre near you The most horrifying film to hit the screen There's a homicidal maniac who finds a Cub Scout troop And he hacks up two or three in every scene Please don't reveal the secret ending to your friends Don't spoil the big surprise You won't believe your eyes when you see  [Chorus] Nature Trail to Hell Nature Trail to Hell Nature Trail to Hell In 3-D Nature Trail to Hell Nature Trail to Hell Nature Trail to Hell In 3-D  [Verse 2] See severed heads that almost fall right in your lap See that bloody hatchet coming right at you No, you'll never see hideous effects like these again Till we bring you \"Nature Trail to Hell Part 2\" So bring the kids along, it's good clean family fun What have you got to lose If you like the six o'clock news, then you'll love [Chorus] Nature Trail to Hell Nature Trail to Hell Nature Trail to Hell In 3-D Nature Trail to Hell (In 3-D) Nature Trail to Hell (In 3-D) Nature Trail to Hell (In 3-D) In 3-D  [Bridge] Satan eats Cheez-Wiz!  [Chorus] Nature Trail to Hell Nature Trail to Hell Nature Trail to Hell In 3-D Nature Trail to Hell (In 3-D) Nature Trail to Hell (In 3-D) Nature Trail to Hell (In 3-D) In 3-D  [Chorus] Nature Trail to Hell (Take it away) Nature Trail to Hell (?) Nature Trail to Hell In 3-D Nature Trail to Hell (Here come the Nature Trail) Nature Trail to Hell (Here come the Nature Trail) Nature Trail to Hell In 3-D (Nature Trail to Hell) In 3-D (Nature Trail to Hell) In 3-D (Nature Trail to Hell) In 3-D In 3-D\n",
       "\n",
       "**Emotions:** \\boxed{fear, violence, obsession, nostalgia, joy}"
      ],
      "text/plain": [
       "<IPython.core.display.Markdown object>"
      ]
     },
     "metadata": {},
     "output_type": "display_data"
    },
    {
     "name": "stdout",
     "output_type": "stream",
     "text": [
      "✅ Auto-saved at row 35\n"
     ]
    },
    {
     "data": {
      "text/markdown": [
       "**Lyric:** Say, do you remember that guy Larry next door Well, he always was the neighborhood clown Like the time he pulled my pants off And he took those color pictures And posted copies all over town  Or the time that he dumped toxic waste on my lawn Or those wacky prank phone calls from midnight till dawn What a crazy kid Larry was, always foolin' around  Boy, what a joker What a funny, funny guy I'll never forget about Larry No matter how I try  Say, do you remember when I lost all my hair Cause Lar' gave me that Nair shampoo And hey, how 'bout the day he put Bengay inside my jockstrap And filled my toothpaste tube up glue  All those wedgies he gave All those shoestrings he tied All those brownies he made with the Ex-Lax inside Oh, Lar', I swear, it was a laugh a minute with you Boy, what a joker What a funny, funny guy I'll never forget about Larry No matter how I try  You know I couldn't help but laugh Even though he treated me like slime Remember when he cut my car in half? Well, he really got me good that time  Say, do you remember when I broke in Larry's house Late at night and tied his mouth with a rag Then I dragged him by his ankles to the middle of the forest And stuffed him in a big plastic bag  If the cops ever find him, who knows what they'd say But I'm sure if ol' Lar' were still with us today He would have to agree with me It was a pretty good gag  Boy, what a joker What a funny, funny guy I'll never forget about Larry No matter how I try  Boy, what a joker What a funny, funny guy I'll never forget about Larry No matter how I try No matter how I try (Cha!) Oh I remember Larry Oh I remember Larry Oh I remember Larry Oh I remember Larry Oh I remember Larry (\"sdnah ruoy no emit eerf fo tol lufwa na evah tsum uoy ,woW\")  Yes I remember, remember, remember Yes I remember, remember, remember Yes I remember, remember, remember (Larry!) Yes I remember, remember, remember Yes I remember, remember, remember\n",
       "\n",
       "**Emotions:** \\boxed{anger, violence, nostalgia, obsession, power}"
      ],
      "text/plain": [
       "<IPython.core.display.Markdown object>"
      ]
     },
     "metadata": {},
     "output_type": "display_data"
    },
    {
     "data": {
      "text/markdown": [
       "**Lyric:** Is this the real life Is this just fantasy Caught in a landslide No escape from reality Open your eyes Look up to the skies and see I'm just a poor boy, I need no sympathy Cause I'm easy come, easy go Little high, little low Anyway the wind blows, doesn't really matter to me To me  Mama, just killed a man Put a gun against his head Pulled my trigger, now he's dead Mama, life had just begun But now I've gone and thrown it all away Mama, ooo Didn't mean to make you cry If I'm not back again this time tomorrow Carry on, carry on, as if nothing really matters Too late, my time has come Sends shivers down my spine Body's aching all the time Goodbye everybody - I've got to go Gotta leave you all behind and face the truth Mama, ooo I don't want to die I sometimes wish I'd never been born at all  I see a little silhouetto of a mam Scaramouch, scaramouch, will you do the fandango Thunderbolt and lightning - very, very frightening me Galileo, galileo Galileo, galileo Galileo figaro - magnifico... hey! hey! hey! I'm just a poor boy, nobody loves me He's just a poor boy from a poor family Spare him his life from this monstrosity Easy come, easy go, will you let me go? Bismillah! no, we will not let you go - let him go Bismillah! we will not let you go - let him go Bismillah! we will not let you go - let him go Will not let you go - let him go Will not let you go - let him go No, no, no, no, no no no no no! Oh mama mia, mama mia, mama mia let me go Beelzebub has a devil put aside for me, for me For me  So you think you can stone me and spit in my eye So you think you can love me and leave me to die Oh, baby - can't do this to me, baby Just gotta get out - just gotta get right outta here  Nothing really matters Anyone can see Nothing really matters Nothing really matters to me anyway the wind blows - hey!\n",
       "\n",
       "**Emotions:** \\boxed{sad, fear, nostalgia, anger, power}"
      ],
      "text/plain": [
       "<IPython.core.display.Markdown object>"
      ]
     },
     "metadata": {},
     "output_type": "display_data"
    },
    {
     "data": {
      "text/markdown": [
       "**Lyric:** [\"State Of Shock\" by The Jacksons w/ Mick Jagger] You're takin' to me good Just like you know you should You get me on my knees Please, baby, please She looks so great, everytime I see her face She put me in a state, ooh! (state of shock)  [\"Sharp Dressed Man\" by ZZ Top] Top coat. Top hat I don't worry, cause my wallet's fat Black shades. White glove Lookin' sharp. Lookin' for love They come a-runnin' just as fast as they can Cause every girl's crazy 'bout a sharp-dressed man, hey!  Whoo! Ah ha!  [\"What's Love Got To Do With It\" by Tina Turner] Oh, what's love, got to do, got to do with it? What's love but a second-hand emotion? What's love got to do, got to do with it? Who needs a heart, when a heart can be broken? [\"Method Of Modern Love\" by Hall & Oates] M-E-T-H-O-D-O-F-L-O-V-E It's the method of modern love  [\"Owner Of A Lonely Heart\" by Yes] Owner of a lonely heart Owner of a lonely heart Much better than the Owner of a broken heart Owner of a lonely heart  Yea. yea yea yea yea yea yea  [\"We're Not Gonna Take It\" by Twisted Sister] We're not gonna take it. No! We ain't gonna take it We're not gonna take it, any more  [\"99 Luftballons\" by Nena] 99 Von luftballons Auf ihrem Weg zum Horizont Denkst du vielleicht Grad an mich Dann singe ich ien Lied fur dich  [\"Footloose\" by Kenny Loggins] Now I gotta cut loose. Footloose Kick off my Sunday shoes Please! Louise! Pull me off-a my knees Jack! Get back! Come on, before we crack! Lose your blues. Ev'rybody cut footloose! [\"The Reflex\" by Duran Duran] So why-- don't you use it Try-- not to bruise it Find-- time, don't lose it  [\"Bang Your Head (Metal Health)\" by Quiet Riot] Bang your head Metal health'll drive ya mad Bang your head Metal health'll drive ya mad  [\"Relax\" by Frankie Goes To Hollywood] Relax, don't do it When you wanna go to it Relax, don't do it When you wanna come Relax, don't do it When you wanna sock it to it Relax, don't do it When you wanna come When you wanna come When you want to come\n",
       "\n",
       "**Emotions:** \\boxed{sexual, power, anger, sad, joy}"
      ],
      "text/plain": [
       "<IPython.core.display.Markdown object>"
      ]
     },
     "metadata": {},
     "output_type": "display_data"
    },
    {
     "data": {
      "text/markdown": [
       "**Lyric:** [Verse 1] I was watching my TV one night When they broke in with a special report About some devastating earthquake in Peru There were 30,000 crushed to death Even more were buried alive On the Richter scale it measured 8.2 And I said \"God, please answer me one question Why'd they have to interrupt The Simpsons just for this?\" What a drag, 'cause I was taping it and everything And now, I'll have to wait for the rerun To see the part of the show I missed  [Chorus] Why does this always happen? Why does this always happen to me? Why does this always happen? Why does this always happen to me? Ba-ba-ba-ba (Ba-ba-ba-ba-ba) Ba-ba-ba-ba (Ba-ba-ba-ba-ba) [Verse 2] I was driving down the highway When all the traffic slowed to a crawl There was a twelve-car pile-up: Everybody dead And I saw brains and guts and vital organs splattered everywhere As well as my friend Robert's disembodied head And I thought \"Oh, poor Rob. I just had lunch with him Hey, wait a minute, he still owes me money, what a jerk!\" Well there's five bucks that I'm never gonna see again Plus now on top of everything else It looks like I'm gonna be late to work  [Chorus] Why does this always happen? Why does this always happen to me? Why does this always happen? Why does this always happen to me? Ba-ba-ba-ba (Ba-ba-ba-ba-ba) Ba-ba-ba-ba (Ba-ba-ba-ba-ba)  [Piano Solo]  [Verse 3] Oh the other day my boss said we were running low on toner And he told me I should buy another case Well I told him I was busy But he still just kept on asking So I turned around and stabbed him in the face Oh and wouldn't you know it, my knife got stuck I guess that's probably bound to happen now and then But I'm afraid I may have bent the tip a little And I know that blade will never ever be quite as sharp again [Chorus] Why does this always happen? Why does this always happen to me? Why does this always happen? Why does this always happen to me? Ba-ba-ba-ba (Ba-ba-ba-ba-ba) Ba-ba-ba-ba (Ba-ba-ba-ba-ba)\n",
       "\n",
       "**Emotions:** \\boxed{anger, violence, sad}"
      ],
      "text/plain": [
       "<IPython.core.display.Markdown object>"
      ]
     },
     "metadata": {},
     "output_type": "display_data"
    },
    {
     "data": {
      "text/markdown": [
       "**Lyric:** Whoa, yeah! You've got a '65 Chevy Malibu With automatic drive A custom paint job, too I'll trade you for my old wheelbarrow And a slightly used sombrero And I'll even throw in a stapler, if you insist  Craigslist! I'm on Craiglist, baby, come on! Yeah  Well, we shared a quick glance Saturday at the mall I never took a chance Never approached you at all You were a blonde half-Asian with a bad case of gas I was wearin' red Speedos and a hockey mask Come on, let's find that love connection that we missed  On Craigslist! Yeah, Craigslist, come on! I'm on Craigslist Oh, baby, maybe you are too! Be bom ba chomb cadonk bin bam boo! An open letter to the snotty barista At the Coffee Bean on San Vicente Boulevard: I know there were twenty people behind me in line But I was on a cell phone call with my mother Didn't you see me hold up my index finger? That means, \"I'll order my soy decaf hazelnut latte In just a couple minutes\" So, what's with the attitude, lady? No tip for you!  Got a trash can of Styrofoam peanuts You can have 'em for free You can drop by on the weekend And pick 'em up from me But the trash can ain't part of the deal Only givin' you the peanuts Get real!  Don't have no Hefty bag, so bring your own Don't bug me with questions on the phone Don't ask for help, don't waste my time And don't complain, cause they won't cost you a dime Just ask yourself: Do you want my Styrofoam peanuts? You can have my Styrofoam peanuts Do you want my Styrofoam peanuts? You can have them all They're on Craigslist, yeah! Craigslist! Ow, baby, come on! I'm on Craigslist, Craigslist, Craigslist! I'm on Craigslist, Craigslist, Craigslist, now  Craigslist!\n",
       "\n",
       "**Emotions:** \\boxed{joy, anger, hope}"
      ],
      "text/plain": [
       "<IPython.core.display.Markdown object>"
      ]
     },
     "metadata": {},
     "output_type": "display_data"
    },
    {
     "name": "stdout",
     "output_type": "stream",
     "text": [
      "✅ Auto-saved at row 40\n"
     ]
    },
    {
     "data": {
      "text/markdown": [
       "**Lyric:** Gonna buy me a condo Gonna buy me a Cuisinart Get a wall to wall carpeting Get a wallet full o' credit cards I gonna buy me a condo Never have to mow de lawn I gonna get me da T-shirt Wit' de alligator on Used to live in Jamaica But I don't live dere no more Had to change me lifestyle Do t'ings I never done before So now I'm just a lonely Rastaman Living in dis American town Gonna sell me Bob Marley records Gonna get me some Jackson Browne Gonna buy me a condo Gonna buy me a Cuisinart Get a wall to wall carpeting Get a wallet full o' credit cards I gonna buy me a condo Never have to mow de lawn I gonna get me da T-shirt Wit' de alligator on Gonna cut off me dreadlocks T'row away all me ganja I'll have a Tupperware party Maybe join me a health spa I'll get a bowl of plastic fruits And a microwave oven, too Then I'll have the neighbors Over for a weenie barbecue Gonna buy me a condo Gonna buy me a Cuisinart Get a wall to wall carpeting Get a wallet full o' credit cards I gonna buy me a condo Never have to mow de lawn I gonna get a funny little T-shirt Wit' de alligator on Ain't gonna work in de field no more Gonna be Amway distributor Ain't gonna work in de field no more, no, no Gonna be Amway distributor Ja (Ja, ja, ja, life is so very hard) I need a, Ja (Ja, ja, ja jacuzzi in me back yard) I Gonna buy me a condo Gonna buy me a Cuisinart Get a wall to wall carpeting Get a wallet full o' credit cards I gonna buy me a condo Never have to mow de lawn I get da T-shirt Wit' de alligator on (What'd you say?) Gonna buy me a condo Gonna buy me a Cuisinart Get a wall to wall carpeting Get a wallet full o' credit cards I gonna buy me a condo Never have to mow de lawn I gonna get me da T-shirt Wit' de alligator on (What'd you say?) I Gonna buy me a condo Gonna buy me a Cuisinart Get a wall to wall carpeting Get a wallet full o' credit cards I gonna buy me a condo Never have to mow de lawn I gonna get me da T-shirt Wit' de alligator on\n",
       "\n",
       "**Emotions:** \\boxed{sad, nostalgia, obsession}"
      ],
      "text/plain": [
       "<IPython.core.display.Markdown object>"
      ]
     },
     "metadata": {},
     "output_type": "display_data"
    },
    {
     "data": {
      "text/markdown": [
       "**Lyric:** Listening to the muzak, hearin' people scream Sittin' in the waiting room readin' crappy magazines With a toothache This is it pal, root canal My molars are impacted, I'm gettin' gum disease I'm gonna need some fillings, got twelve cavities Can you help me? Have mercy, doctor please  My teeth are a fright Got a huge overbite Numb me, drill me Floss me, bill me  You jab at my nerve endings, it's driving me insane Just give me nitrous oxide, shoot me up with Novocaine Help me out here, 'cause I'm in severe Pain  Please stop for a bit Now let me rinse and spit Numb me, drill me Floss me, bill me You validate my parking, I think that I'm okay But you make one more appointment for a week from Saturday 'Cause you came upon A little problem on my x-ray Oy vey  It's getting absurd Well, I hope I'm insured now Numb me, drill me Floss me, bill me\n",
       "\n",
       "**Emotions:** \\boxed{fear, sad, anger, hope}"
      ],
      "text/plain": [
       "<IPython.core.display.Markdown object>"
      ]
     },
     "metadata": {},
     "output_type": "display_data"
    },
    {
     "data": {
      "text/markdown": [
       "**Lyric:** [Verse 1: K.A.A.N.] Man you, said you was dope I doubt it No cosign and no vouching My head been where the clouds is Your heart been where your clout is No you ain't really 'bout this No you ain't really 'bout shit See, I'm picking up where I left off I shoot my shot like a sawed-off Playing the game like I really want it Never fabricate I tell the whole truth This incessant style is innocent Eat the beat like it was Venison Veni Vidi Vici when I speak Ineffective how these niggas be Insufficient been the fund status Lord forgive them for they don't know I never stall, but I starve for this shit to work I ain't never had any opportunities, I just had myself For what I saw was independence, not no regular work I'm not dependent on no man Out here living like nomads Passed the point of no return, there ain't no way I can go back To live how I used to Safe to say I got used to, all the shit that I dealt with Singular thoughts got me looking at me In the mirror, I don't like what I see In a mural where you feel immature Take your time so you're not premature Enjoy it all 'cause it could fade away Who knows if it's permanent Get through, tryna penetrate Make it special, make it resonate Build something from the ground up It's all you, they could never take it Life's short, try to live it baby Be you and appreciate it Focused, what I must be It all ends so abruptly It goes quick nigga, trust me Won't stop until I reach the peak Of my creativity Wasting time, no I can't see I'm a critical thinker I vanquished all of y'all The champion status like Ali Muhammad as salaam alaikum When you step in my ring That Boom By Yay be like a drum There's no alaikum salaam, you Get choked, smoked or revoked with a dose of this rope-a-dope Make 'em double dutch from my wordplay No response, you ain't worthy I wasn't aware of you but I know you already heard me It's levels to this shit, so get rid of your pride and ego No weapon formed against me shall prosper, my shit is lethal [Chorus: Bleverly Hills] What a life so phony I might lose my cool You just take it from me I got nothing left for you What a life so phony I might lose my cool You just take it from me I got nothing left for you  [Verse 2: Bleverly Hills] Excuse me can I pick your brain a minute I mean I usually think yours tasted different You paint a picture full of fame and women But they don't recognize your name on Twitter I got a problem with the lame pretender Y'all are puppies bitch, you claim your litter You tippin' change at dinner Your hits just ain't been hittin' You claim you hang with winners I seen them on the benches You need to call up Denny's Get you a job that's paying Flippin' the sausage maybe (Flicka-da flicka-da wrist, baby) Rap game, Charlie Day Act ways, awkward save Say you got bars, hotter than a match Played with Roger, shouts to Federer I guess I let ya burn You learn the best is earned You heard the rest don't work You heard it right, boy I heard the lecture first I felt the pressure burst Call it a night, boy [Chorus: Bleverly Hills] What a life so phony I might lose my cool You just take it from me I got nothing left for you What a life so phony I might lose my cool You just take it from me I got nothing left for you\n",
       "\n",
       "**Emotions:** \\boxed{anger, power, sad, hope}"
      ],
      "text/plain": [
       "<IPython.core.display.Markdown object>"
      ]
     },
     "metadata": {},
     "output_type": "display_data"
    },
    {
     "data": {
      "text/markdown": [
       "**Lyric:** Potato skins, potato cakes Hash browns and instant flakes Baked or boiled or French fried There's no kind, you haven't tried You planned a trip to Idaho (Woah-oh) Just to watch potatoes grow I understand how you must feel I can't deny, they've got appeal  Whoa, you like them whether they are plain or they're stuffed Oh, yeah Better face the facts, it seems you can't get enough You know you're gonna have to face it, you're addicted to spuds  Your greasy hands, your salty lips Looks like you found the chips Your belly aches, your teeth grind Some tater tots would blow your mind And you don't mind if they're not cooked You need your fix, I guess you're hooked And late at night you always dream Of bacon bits and sour cream Whoa, you like them even if they're lumpy or tough Oh, yeah Whee, it's pretty obvious to me, you can't get enough You know you're gonna have to face it, you're addicted to spuds  Might as well face it, you're addicted to spuds Might as well face it, you're addicted to spuds Might as well face it, you're addicted to spuds Might as well face it, you're addicted to spuds Might as well face it, you're addicted to spuds Oh, yeah  I'm givin' up, it's just no use Another case of spud abuse What can I say? What can I do? Potato bug has got me too, wahoo  I used to hate them, now they're all that I eat Oh, yeah Wee, I've often seen them whipped, but they just can't be beat Now I'm gonna have to face it, I'm addicted to spuds  Might as well face it, I'm addicted to spuds Might as well face it, I'm addicted to spuds Might as well face it, I'm addicted to spuds Might as well face it, I'm addicted to spuds Might as well face it, I'm addicted to spuds Might as well face it, I'm addicted to spuds Might as well face it, I'm addicted to spuds Might as well face it, I'm addicted to spuds\n",
       "\n",
       "**Emotions:** \\boxed{joy, obsession, nostalgia}"
      ],
      "text/plain": [
       "<IPython.core.display.Markdown object>"
      ]
     },
     "metadata": {},
     "output_type": "display_data"
    },
    {
     "data": {
      "text/markdown": [
       "**Lyric:** Here she comes now, wants her alimony Bleedin' me dry as a bony, bony Workin' three jobs just to stay in debt, now Well, first she took my nest egg Then she took the nest I said yeah, yeah, yeah, yeah, yeah Yeah 'Cause she took my house (Alimony) My car (Alimony) My shoes (Alimony) And my toothbrush too (Alimony) Too bad (Alimony) So sad (Alimony) And she got (Alimony) Got the gift of grab (Alimony) I'm in debt, debt, debt Debt, debt, debt Lawyer's callin' me on the telephony Tryin' to squeeze some blood from a stony, stony Ooh, I took her for better or for worse, yeah Then she took me for everything, yeah everything She could get, get, get, get, get, get Well I'm out of cash (Alimony) No dough (Alimony) I'm broke (Alimony) It's no joke (Alimony) The check's in the mail (Alimony) Get off (Alimony) My back (Alimony) Cut me some slack (Alimony) I said yeah, yeah, yeah Yeah, yeah, yeah Ooh, I want my alimony (Oh you do) Ooh, I want my alimony (Is it due?) Ooh, I want my alimony (Or you'll sue) Ooh, I want my alimony Alimony, mony Yeah, yeah, yeah, yeah Wow (Alimony, alimony, alimony) I said (Alimony) Come on, come on, come on Alimony, alimony, alimony Bleed me dry (Alimony) I said no, oh no, no No, no, no, no\n",
       "\n",
       "**Emotions:** \\boxed{anger, sad, fear}"
      ],
      "text/plain": [
       "<IPython.core.display.Markdown object>"
      ]
     },
     "metadata": {},
     "output_type": "display_data"
    },
    {
     "name": "stdout",
     "output_type": "stream",
     "text": [
      "✅ Auto-saved at row 45\n"
     ]
    },
    {
     "data": {
      "text/markdown": [
       "**Lyric:** I visit Mr. Frump in the hospital I see him most every day And when I see Mr. Frump in his iron lung This is what I hear him say  [deep breathing]  Y'know, Mr. Frump is my very best friend He's never a chump or a tease He never tells me lies, and best of all He never disagrees  I bring him candy and flowers every afternoon Sit down by his side and say \"Hi\" And then I ask him his opinion of the world situation And I wait for Mr. Frump's reply, and Mr. Frump would say  [deep breathing]  Well, unfortunately, soon it came to be Mr. Frump's dying day And now I bring to you the very last thing That Mr. Frump had to say.... [deep breathing, that fades and dies off]  Amen\n",
       "\n",
       "**Emotions:** \\boxed{sad, tender, nostalgia}"
      ],
      "text/plain": [
       "<IPython.core.display.Markdown object>"
      ]
     },
     "metadata": {},
     "output_type": "display_data"
    },
    {
     "name": "stdout",
     "output_type": "stream",
     "text": [
      "API Error at index 46: 429 - {\"error\":{\"message\":\"Rate limit exceeded: free-models-per-day. Add 10 credits to unlock 1000 free model requests per day\",\"code\":429,\"metadata\":{\"headers\":{\"X-RateLimit-Limit\":\"50\",\"X-RateLimit-Remaining\":\"0\",\"X-RateLimit-Reset\":\"1748217600000\"},\"provider_name\":null}},\"user_id\":\"user_2vvsBR2msASYjPTH6FuFS4BgbJE\"}\n"
     ]
    },
    {
     "data": {
      "text/markdown": [
       "**Lyric:** I woke up this morning Then I went back to bed Said I woke up this morning Then I went right back to bed Got a funny kind of feelin', like I got broken glass in my underwear And a herd of wild pigs is tryin' to chew off my head You know what I'm sayin'?  Well, I ain't got no money I'm just walkin' down the road Said I ain't got no money, honey So I'm just walkin' down this lonely ol' road Well, I wish I could get me some money But I forgot my automated teller code  I was born in a paper sack In the bottom of a sewer I had to eat dirt clods for breakfast My family was so poor My daddy was a waitress My mama sold bathroom tile My brothers and sisters all hated me 'Cause I was an only child I got the blues so bad Kinda wish I was dead Maybe I'll blow my brains out, mama Or maybe I'll, yeah maybe I'll just go bowlin' instead I'm just a no-good, scum-sucking, nose-picking, boot-licking, sniveling, grovelling worthless hunk of slime Nothin' but a low-down beer-bellied, bone-headed, pigeon-toed, turkey-necked, weasel-faced worthless hunk of slime I guess I've got a pretty low self-image, maybe it's a chemical imbalance or something I should probably go and see a doctor about it when I've got the time  Aw, make it talk, son, make it talk Okay, now make it shut up  Plagues and famine and pestilence Always seem to get me down I always feel so miserable Whenever I'm around I wish somebody would come along And stick a pitchfork through my brain I'd flush myself right down the toilet But I'd just clog up the drain I got the blues so bad Kinda wish I was dead Maybe I'll blow my brains out, mama Or maybe I'll go bowling Or I just might go bowling Maybe I'll just rent some shoes and go bowling Maybe I'll join a league, enter a tournament, put on a stupid-lookin' shirt and go bowling... Instead\n",
       "\n",
       "**Emotions:** error"
      ],
      "text/plain": [
       "<IPython.core.display.Markdown object>"
      ]
     },
     "metadata": {},
     "output_type": "display_data"
    },
    {
     "data": {
      "text/markdown": [
       "**Lyric:** Gonna tell you a story About Chuck and Diane Couple British kids from The palace at Buckingham Chuckie wants to grow up And be a polo star And ride his little horsies All around the backyard, oh yeah You know they really paid their dues I said, \"Hey, lawdy mama They got them Buckingham blues\" Now Chuckie goes hunting And leaves Diane alone So she fixes her hair And she talks on the princess phone Chuckie's still tryin' to figure out What his job's supposed to be And Diane's the fashion leader Of the aristocracy I said, \"Hey, Lady Di Tell me where'd you get them shoes, ah Well, hey nonny nonny Looks like you got them Buckingham blues\" Aw, bein' heir to the throne, well It must be awful hard Gotta pose for pictures Out on the front yard And Lady Di, well She must have it pretty rough Gotta hang around the house all day Makin' babies and stuff On another game of croquet Then they're off on a Caribbean cruise Well, hey bop-a-re-bop They really got them Buckingham blues Ah, tell the truth, now, tell the truth Wow I got my mojo workin' Yeah, woo, don't help me now Ah, hurt me, mama, whoa, ah They don't serve no Twinkies With their afternoon tea Never had a dinner Made by Chef Boyardee Bein' in the spotlight Is a hard life to choose Diane drops half a pound It's on the six o'clock news, oh yeah Those kids have really paid their dues Oh, what a royal pain it is When you got them Buckingham blues\n",
       "\n",
       "**Emotions:** \\boxed{sad, obsession, nostalgia, anger}"
      ],
      "text/plain": [
       "<IPython.core.display.Markdown object>"
      ]
     },
     "metadata": {},
     "output_type": "display_data"
    },
    {
     "name": "stdout",
     "output_type": "stream",
     "text": [
      "API Error at index 48: 429 - {\"error\":{\"message\":\"Rate limit exceeded: free-models-per-day. Add 10 credits to unlock 1000 free model requests per day\",\"code\":429,\"metadata\":{\"headers\":{\"X-RateLimit-Limit\":\"50\",\"X-RateLimit-Remaining\":\"0\",\"X-RateLimit-Reset\":\"1748217600000\"},\"provider_name\":null}},\"user_id\":\"user_2vvsBR2msASYjPTH6FuFS4BgbJE\"}\n"
     ]
    },
    {
     "data": {
      "text/markdown": [
       "**Lyric:** Carbon monoxide making me choke No AC and the radio's broke Cars backed up far as you can see Seems like I've been waiting here for all eternity  Oh, and just in case you're wondering I'll tell you where I am I'm right here (right here) right here (right here) Stuck right here in the middle of this  Traffic jam, I haven't moved one inch from this here spot Traffic jam, the freeway's one big parking lot Traffic jam, my radiator's boiling hot And I'm stuck right here in the middle (right here in the middle) Right here in the middle of a traffic jam  Trapped inside my automobile Cobwebs growin' on the steerin' wheel Now, I'm no genius but one thing I know I shouldn't have had that bag of bran muffins an hour and a half ago Yeah, and if you need to find me I'll tell you where I am I'm right here (right here) right here (right here) Stuck smack dab in the middle of this...  Traffic jam, I haven't moved one inch from this here spot Traffic jam, the freeway's one big parking lot Traffic jam, well, I thought we were movin' but I guess we're not 'Cause I'm stuck right here in the middle (right here in the middle) Right here in the middle of a traffic jam  Stuck in the middle of a traffic jam Yeah yeah yeah yeah Bumper to bumper to bumper to bumper to Bumper to bumper to bumper to bumper to Bumper to bumper to bumper to bumper... Yay-hey!  There's a yuppie on a cellular phone I'm gonna puke if I hear anymore There's a motorcycle zoomin' by me Watch what happens when I open my door  Now we're all goin' nowhere fast Well, I guess that's perfectly clear I left home five hours ago And I can still see my house from here So if anybody's tryin' to find me Well, I'll tell you where I am Right here (right here) right here (right here) Stuck right here in the middle of this...  Traffic jam, I haven't moved one inch from this here spot Traffic jam, the freeway's one big parking lot Traffic jam, now my back teeth are floatin' and my nerves are shot And I'm stuck right here in the middle (right here in the middle) Stuck right here in the middle of a traffic jam Traffic Jam... Traffic jam... Traffic jam... Woo!\n",
       "\n",
       "**Emotions:** error"
      ],
      "text/plain": [
       "<IPython.core.display.Markdown object>"
      ]
     },
     "metadata": {},
     "output_type": "display_data"
    },
    {
     "ename": "KeyboardInterrupt",
     "evalue": "",
     "output_type": "error",
     "traceback": [
      "\u001b[1;31m---------------------------------------------------------------------------\u001b[0m",
      "\u001b[1;31mKeyboardInterrupt\u001b[0m                         Traceback (most recent call last)",
      "Cell \u001b[1;32mIn[12], line 69\u001b[0m\n\u001b[0;32m     66\u001b[0m         \u001b[38;5;28mprint\u001b[39m(\u001b[38;5;124mf\u001b[39m\u001b[38;5;124m\"\u001b[39m\u001b[38;5;124m✅ Auto-saved at row \u001b[39m\u001b[38;5;132;01m{\u001b[39;00midx\u001b[38;5;250m \u001b[39m\u001b[38;5;241m+\u001b[39m\u001b[38;5;250m \u001b[39m\u001b[38;5;241m1\u001b[39m\u001b[38;5;132;01m}\u001b[39;00m\u001b[38;5;124m\"\u001b[39m)\n\u001b[0;32m     68\u001b[0m     \u001b[38;5;66;03m# Delay to avoid rate-limiting\u001b[39;00m\n\u001b[1;32m---> 69\u001b[0m     \u001b[43mtime\u001b[49m\u001b[38;5;241;43m.\u001b[39;49m\u001b[43msleep\u001b[49m\u001b[43m(\u001b[49m\u001b[38;5;241;43m1\u001b[39;49m\u001b[43m)\u001b[49m\n\u001b[0;32m     71\u001b[0m \u001b[38;5;66;03m# Final save\u001b[39;00m\n\u001b[0;32m     72\u001b[0m df\u001b[38;5;241m.\u001b[39mto_csv(\u001b[38;5;124m\"\u001b[39m\u001b[38;5;124mlyrics_with_emotions.csv\u001b[39m\u001b[38;5;124m\"\u001b[39m, index\u001b[38;5;241m=\u001b[39m\u001b[38;5;28;01mFalse\u001b[39;00m)\n",
      "\u001b[1;31mKeyboardInterrupt\u001b[0m: "
     ]
    }
   ],
   "source": [
    "import pandas as pd\n",
    "import requests\n",
    "import json\n",
    "import time\n",
    "from IPython.display import display, Markdown\n",
    "\n",
    "# Load the CSV file\n",
    "df = pd.read_csv(\"spotify_sadness.csv\", encoding='ISO-8859-1') # Replace with your actual CSV file\n",
    "if 'emotions' not in df.columns:\n",
    "    df['emotions'] = \"\"  # Initialize if not already there\n",
    "\n",
    "# Define constants\n",
    "API_URL = \"openrouter_api_key\"\n",
    "API_KEY = \"deepseek_api_key\"\n",
    "MODEL = \"deepseek/deepseek-r1-zero:free\"\n",
    "emotion_list = \"joy, anger, fear, nostalgia, sad, obsession, sexual, hope, calm, tender, violence, power\"\n",
    "\n",
    "# Loop through each lyric\n",
    "for idx, row in df.iterrows():\n",
    "    # Skip if already labeled\n",
    "    if isinstance(row['emotions'], str) and len(row['emotions']) > 2:\n",
    "        continue\n",
    "\n",
    "    lyric = row['lyrics']\n",
    "    \n",
    "    prompt = f\"\"\"Given the following song lyric, label it with the most dominant emotions. \n",
    "Choose from the list: {emotion_list}. \n",
    "Return the emotions separated by commas. The number of labels must be 2 to 5.\n",
    "\n",
    "Lyric: {lyric}\n",
    "\"\"\"\n",
    "\n",
    "    try:\n",
    "        response = requests.post(\n",
    "            url=API_URL,\n",
    "            headers={\n",
    "                \"Authorization\": f\"Bearer {API_KEY}\",\n",
    "                \"Content-Type\": \"application/json\"\n",
    "            },\n",
    "            data=json.dumps({\n",
    "                \"model\": MODEL,\n",
    "                \"messages\": [{\"role\": \"user\", \"content\": prompt}]\n",
    "            })\n",
    "        )\n",
    "\n",
    "        if response.status_code == 200:\n",
    "            result = response.json()\n",
    "            emotion_output = result['choices'][0]['message']['content'].strip()\n",
    "        else:\n",
    "            emotion_output = \"error\"\n",
    "            print(f\"API Error at index {idx}: {response.status_code} - {response.text}\")\n",
    "\n",
    "    except Exception as e:\n",
    "        emotion_output = \"error\"\n",
    "        print(f\"Exception at index {idx}: {e}\")\n",
    "\n",
    "    # Save to DataFrame\n",
    "    df.at[idx, 'emotions'] = emotion_output\n",
    "\n",
    "    # Display lyric + emotion inline\n",
    "    display(Markdown(f\"**Lyric:** {lyric}\\n\\n**Emotions:** {emotion_output}\"))\n",
    "\n",
    "    # Save every 5 rows\n",
    "    if (idx + 1) % 5 == 0:\n",
    "        df.to_csv(\"lyrics_with_emotions.csv\", index=False)\n",
    "        print(f\"✅ Auto-saved at row {idx + 1}\")\n",
    "\n",
    "    # Delay to avoid rate-limiting\n",
    "    time.sleep(1)\n",
    "\n",
    "# Final save\n",
    "df.to_csv(\"lyrics_with_emotions.csv\", index=False)\n",
    "print(\"🎉 Done! Full output saved to 'lyrics_with_emotions.csv'\")\n"
   ]
  },
  {
   "cell_type": "code",
   "execution_count": null,
   "id": "a127bba4-5e22-41d9-9bf4-f945f6eba0e4",
   "metadata": {},
   "outputs": [],
   "source": [
    "deepseek/deepseek-v3-base:free"
   ]
  },
  {
   "cell_type": "code",
   "execution_count": null,
   "id": "46145138-ed1f-4eeb-8d82-ad9a83c224a0",
   "metadata": {},
   "outputs": [],
   "source": []
  }
 ],
 "metadata": {
  "kernelspec": {
   "display_name": "MyNewVenv",
   "language": "python",
   "name": "mynewvenv"
  },
  "language_info": {
   "codemirror_mode": {
    "name": "ipython",
    "version": 3
   },
   "file_extension": ".py",
   "mimetype": "text/x-python",
   "name": "python",
   "nbconvert_exporter": "python",
   "pygments_lexer": "ipython3",
   "version": "3.10.11"
  }
 },
 "nbformat": 4,
 "nbformat_minor": 5
}
